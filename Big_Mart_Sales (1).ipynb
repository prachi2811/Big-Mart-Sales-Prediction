{
 "cells": [
  {
   "cell_type": "code",
   "execution_count": 1,
   "metadata": {
    "colab": {
     "base_uri": "https://localhost:8080/",
     "height": 309
    },
    "id": "_Ux35zh3551K",
    "outputId": "3d3a55f3-e652-4ffc-d04d-5ddc401d6385"
   },
   "outputs": [
    {
     "data": {
      "text/html": [
       "<div>\n",
       "<style scoped>\n",
       "    .dataframe tbody tr th:only-of-type {\n",
       "        vertical-align: middle;\n",
       "    }\n",
       "\n",
       "    .dataframe tbody tr th {\n",
       "        vertical-align: top;\n",
       "    }\n",
       "\n",
       "    .dataframe thead th {\n",
       "        text-align: right;\n",
       "    }\n",
       "</style>\n",
       "<table border=\"1\" class=\"dataframe\">\n",
       "  <thead>\n",
       "    <tr style=\"text-align: right;\">\n",
       "      <th></th>\n",
       "      <th>Item_Identifier</th>\n",
       "      <th>Item_Weight</th>\n",
       "      <th>Item_Fat_Content</th>\n",
       "      <th>Item_Visibility</th>\n",
       "      <th>Item_Type</th>\n",
       "      <th>Item_MRP</th>\n",
       "      <th>Outlet_Identifier</th>\n",
       "      <th>Outlet_Establishment_Year</th>\n",
       "      <th>Outlet_Size</th>\n",
       "      <th>Outlet_Location_Type</th>\n",
       "      <th>Outlet_Type</th>\n",
       "      <th>Item_Outlet_Sales</th>\n",
       "    </tr>\n",
       "  </thead>\n",
       "  <tbody>\n",
       "    <tr>\n",
       "      <th>0</th>\n",
       "      <td>FDA15</td>\n",
       "      <td>9.30</td>\n",
       "      <td>Low Fat</td>\n",
       "      <td>0.016047</td>\n",
       "      <td>Dairy</td>\n",
       "      <td>249.8092</td>\n",
       "      <td>OUT049</td>\n",
       "      <td>1999</td>\n",
       "      <td>Medium</td>\n",
       "      <td>Tier 1</td>\n",
       "      <td>Supermarket Type1</td>\n",
       "      <td>3735.1380</td>\n",
       "    </tr>\n",
       "    <tr>\n",
       "      <th>1</th>\n",
       "      <td>DRC01</td>\n",
       "      <td>5.92</td>\n",
       "      <td>Regular</td>\n",
       "      <td>0.019278</td>\n",
       "      <td>Soft Drinks</td>\n",
       "      <td>48.2692</td>\n",
       "      <td>OUT018</td>\n",
       "      <td>2009</td>\n",
       "      <td>Medium</td>\n",
       "      <td>Tier 3</td>\n",
       "      <td>Supermarket Type2</td>\n",
       "      <td>443.4228</td>\n",
       "    </tr>\n",
       "    <tr>\n",
       "      <th>2</th>\n",
       "      <td>FDN15</td>\n",
       "      <td>17.50</td>\n",
       "      <td>Low Fat</td>\n",
       "      <td>0.016760</td>\n",
       "      <td>Meat</td>\n",
       "      <td>141.6180</td>\n",
       "      <td>OUT049</td>\n",
       "      <td>1999</td>\n",
       "      <td>Medium</td>\n",
       "      <td>Tier 1</td>\n",
       "      <td>Supermarket Type1</td>\n",
       "      <td>2097.2700</td>\n",
       "    </tr>\n",
       "    <tr>\n",
       "      <th>3</th>\n",
       "      <td>FDX07</td>\n",
       "      <td>19.20</td>\n",
       "      <td>Regular</td>\n",
       "      <td>0.000000</td>\n",
       "      <td>Fruits and Vegetables</td>\n",
       "      <td>182.0950</td>\n",
       "      <td>OUT010</td>\n",
       "      <td>1998</td>\n",
       "      <td>NaN</td>\n",
       "      <td>Tier 3</td>\n",
       "      <td>Grocery Store</td>\n",
       "      <td>732.3800</td>\n",
       "    </tr>\n",
       "    <tr>\n",
       "      <th>4</th>\n",
       "      <td>NCD19</td>\n",
       "      <td>8.93</td>\n",
       "      <td>Low Fat</td>\n",
       "      <td>0.000000</td>\n",
       "      <td>Household</td>\n",
       "      <td>53.8614</td>\n",
       "      <td>OUT013</td>\n",
       "      <td>1987</td>\n",
       "      <td>High</td>\n",
       "      <td>Tier 3</td>\n",
       "      <td>Supermarket Type1</td>\n",
       "      <td>994.7052</td>\n",
       "    </tr>\n",
       "  </tbody>\n",
       "</table>\n",
       "</div>"
      ],
      "text/plain": [
       "  Item_Identifier  Item_Weight  ...        Outlet_Type  Item_Outlet_Sales\n",
       "0           FDA15         9.30  ...  Supermarket Type1          3735.1380\n",
       "1           DRC01         5.92  ...  Supermarket Type2           443.4228\n",
       "2           FDN15        17.50  ...  Supermarket Type1          2097.2700\n",
       "3           FDX07        19.20  ...      Grocery Store           732.3800\n",
       "4           NCD19         8.93  ...  Supermarket Type1           994.7052\n",
       "\n",
       "[5 rows x 12 columns]"
      ]
     },
     "execution_count": 1,
     "metadata": {
      "tags": []
     },
     "output_type": "execute_result"
    }
   ],
   "source": [
    "import pandas as pd\n",
    "import warnings\n",
    "warnings.filterwarnings(\"ignore\")\n",
    "train=pd.read_csv('/content/train_v9rqX0R.csv')\n",
    "test=pd.read_csv('/content/test_AbJTz2l.csv')\n",
    "train.head()"
   ]
  },
  {
   "cell_type": "code",
   "execution_count": null,
   "metadata": {
    "colab": {
     "base_uri": "https://localhost:8080/"
    },
    "id": "aduu5lQF6LlY",
    "outputId": "5b1cbbb3-132f-4e82-b4ac-60b0ed426e3d"
   },
   "outputs": [
    {
     "data": {
      "text/plain": [
       "((8523, 12), (5681, 11))"
      ]
     },
     "execution_count": 6,
     "metadata": {
      "tags": []
     },
     "output_type": "execute_result"
    }
   ],
   "source": [
    "train.shape,test.shape"
   ]
  },
  {
   "cell_type": "code",
   "execution_count": null,
   "metadata": {
    "colab": {
     "base_uri": "https://localhost:8080/"
    },
    "id": "NKq-TLiF6XAX",
    "outputId": "772cc670-ff7f-49b1-ad89-064d63bb0157"
   },
   "outputs": [
    {
     "data": {
      "text/plain": [
       "Item_Identifier                 0\n",
       "Item_Weight                  1463\n",
       "Item_Fat_Content                0\n",
       "Item_Visibility                 0\n",
       "Item_Type                       0\n",
       "Item_MRP                        0\n",
       "Outlet_Identifier               0\n",
       "Outlet_Establishment_Year       0\n",
       "Outlet_Size                  2410\n",
       "Outlet_Location_Type            0\n",
       "Outlet_Type                     0\n",
       "Item_Outlet_Sales               0\n",
       "dtype: int64"
      ]
     },
     "execution_count": 7,
     "metadata": {
      "tags": []
     },
     "output_type": "execute_result"
    }
   ],
   "source": [
    "train.isna().sum()\n",
    "## Cheking null values present in the train dataset."
   ]
  },
  {
   "cell_type": "code",
   "execution_count": null,
   "metadata": {
    "colab": {
     "base_uri": "https://localhost:8080/",
     "height": 297
    },
    "id": "E3jpK6PK6Y0m",
    "outputId": "cfa91657-3655-4bc3-888a-e0d00069bf3f"
   },
   "outputs": [
    {
     "data": {
      "text/html": [
       "<div>\n",
       "<style scoped>\n",
       "    .dataframe tbody tr th:only-of-type {\n",
       "        vertical-align: middle;\n",
       "    }\n",
       "\n",
       "    .dataframe tbody tr th {\n",
       "        vertical-align: top;\n",
       "    }\n",
       "\n",
       "    .dataframe thead th {\n",
       "        text-align: right;\n",
       "    }\n",
       "</style>\n",
       "<table border=\"1\" class=\"dataframe\">\n",
       "  <thead>\n",
       "    <tr style=\"text-align: right;\">\n",
       "      <th></th>\n",
       "      <th>Item_Weight</th>\n",
       "      <th>Item_Visibility</th>\n",
       "      <th>Item_MRP</th>\n",
       "      <th>Outlet_Establishment_Year</th>\n",
       "      <th>Item_Outlet_Sales</th>\n",
       "    </tr>\n",
       "  </thead>\n",
       "  <tbody>\n",
       "    <tr>\n",
       "      <th>count</th>\n",
       "      <td>7060.000000</td>\n",
       "      <td>8523.000000</td>\n",
       "      <td>8523.000000</td>\n",
       "      <td>8523.000000</td>\n",
       "      <td>8523.000000</td>\n",
       "    </tr>\n",
       "    <tr>\n",
       "      <th>mean</th>\n",
       "      <td>12.857645</td>\n",
       "      <td>0.066132</td>\n",
       "      <td>140.992782</td>\n",
       "      <td>1997.831867</td>\n",
       "      <td>2181.288914</td>\n",
       "    </tr>\n",
       "    <tr>\n",
       "      <th>std</th>\n",
       "      <td>4.643456</td>\n",
       "      <td>0.051598</td>\n",
       "      <td>62.275067</td>\n",
       "      <td>8.371760</td>\n",
       "      <td>1706.499616</td>\n",
       "    </tr>\n",
       "    <tr>\n",
       "      <th>min</th>\n",
       "      <td>4.555000</td>\n",
       "      <td>0.000000</td>\n",
       "      <td>31.290000</td>\n",
       "      <td>1985.000000</td>\n",
       "      <td>33.290000</td>\n",
       "    </tr>\n",
       "    <tr>\n",
       "      <th>25%</th>\n",
       "      <td>8.773750</td>\n",
       "      <td>0.026989</td>\n",
       "      <td>93.826500</td>\n",
       "      <td>1987.000000</td>\n",
       "      <td>834.247400</td>\n",
       "    </tr>\n",
       "    <tr>\n",
       "      <th>50%</th>\n",
       "      <td>12.600000</td>\n",
       "      <td>0.053931</td>\n",
       "      <td>143.012800</td>\n",
       "      <td>1999.000000</td>\n",
       "      <td>1794.331000</td>\n",
       "    </tr>\n",
       "    <tr>\n",
       "      <th>75%</th>\n",
       "      <td>16.850000</td>\n",
       "      <td>0.094585</td>\n",
       "      <td>185.643700</td>\n",
       "      <td>2004.000000</td>\n",
       "      <td>3101.296400</td>\n",
       "    </tr>\n",
       "    <tr>\n",
       "      <th>max</th>\n",
       "      <td>21.350000</td>\n",
       "      <td>0.328391</td>\n",
       "      <td>266.888400</td>\n",
       "      <td>2009.000000</td>\n",
       "      <td>13086.964800</td>\n",
       "    </tr>\n",
       "  </tbody>\n",
       "</table>\n",
       "</div>"
      ],
      "text/plain": [
       "       Item_Weight  ...  Item_Outlet_Sales\n",
       "count  7060.000000  ...        8523.000000\n",
       "mean     12.857645  ...        2181.288914\n",
       "std       4.643456  ...        1706.499616\n",
       "min       4.555000  ...          33.290000\n",
       "25%       8.773750  ...         834.247400\n",
       "50%      12.600000  ...        1794.331000\n",
       "75%      16.850000  ...        3101.296400\n",
       "max      21.350000  ...       13086.964800\n",
       "\n",
       "[8 rows x 5 columns]"
      ]
     },
     "execution_count": 8,
     "metadata": {
      "tags": []
     },
     "output_type": "execute_result"
    }
   ],
   "source": [
    "train.describe()\n",
    "##Statistical summary of dataset only numerical part is described by this description. So to visualise the categorical columns next step is performed."
   ]
  },
  {
   "cell_type": "code",
   "execution_count": null,
   "metadata": {
    "colab": {
     "base_uri": "https://localhost:8080/",
     "height": 173
    },
    "id": "Mod8okqi6fLJ",
    "outputId": "2a438ba6-ceec-43bc-a94c-986cbad6d7a0"
   },
   "outputs": [
    {
     "data": {
      "text/html": [
       "<div>\n",
       "<style scoped>\n",
       "    .dataframe tbody tr th:only-of-type {\n",
       "        vertical-align: middle;\n",
       "    }\n",
       "\n",
       "    .dataframe tbody tr th {\n",
       "        vertical-align: top;\n",
       "    }\n",
       "\n",
       "    .dataframe thead th {\n",
       "        text-align: right;\n",
       "    }\n",
       "</style>\n",
       "<table border=\"1\" class=\"dataframe\">\n",
       "  <thead>\n",
       "    <tr style=\"text-align: right;\">\n",
       "      <th></th>\n",
       "      <th>Item_Identifier</th>\n",
       "      <th>Item_Fat_Content</th>\n",
       "      <th>Item_Type</th>\n",
       "      <th>Outlet_Identifier</th>\n",
       "      <th>Outlet_Size</th>\n",
       "      <th>Outlet_Location_Type</th>\n",
       "      <th>Outlet_Type</th>\n",
       "    </tr>\n",
       "  </thead>\n",
       "  <tbody>\n",
       "    <tr>\n",
       "      <th>count</th>\n",
       "      <td>8523</td>\n",
       "      <td>8523</td>\n",
       "      <td>8523</td>\n",
       "      <td>8523</td>\n",
       "      <td>6113</td>\n",
       "      <td>8523</td>\n",
       "      <td>8523</td>\n",
       "    </tr>\n",
       "    <tr>\n",
       "      <th>unique</th>\n",
       "      <td>1559</td>\n",
       "      <td>5</td>\n",
       "      <td>16</td>\n",
       "      <td>10</td>\n",
       "      <td>3</td>\n",
       "      <td>3</td>\n",
       "      <td>4</td>\n",
       "    </tr>\n",
       "    <tr>\n",
       "      <th>top</th>\n",
       "      <td>FDG33</td>\n",
       "      <td>Low Fat</td>\n",
       "      <td>Fruits and Vegetables</td>\n",
       "      <td>OUT027</td>\n",
       "      <td>Medium</td>\n",
       "      <td>Tier 3</td>\n",
       "      <td>Supermarket Type1</td>\n",
       "    </tr>\n",
       "    <tr>\n",
       "      <th>freq</th>\n",
       "      <td>10</td>\n",
       "      <td>5089</td>\n",
       "      <td>1232</td>\n",
       "      <td>935</td>\n",
       "      <td>2793</td>\n",
       "      <td>3350</td>\n",
       "      <td>5577</td>\n",
       "    </tr>\n",
       "  </tbody>\n",
       "</table>\n",
       "</div>"
      ],
      "text/plain": [
       "       Item_Identifier Item_Fat_Content  ... Outlet_Location_Type        Outlet_Type\n",
       "count             8523             8523  ...                 8523               8523\n",
       "unique            1559                5  ...                    3                  4\n",
       "top              FDG33          Low Fat  ...               Tier 3  Supermarket Type1\n",
       "freq                10             5089  ...                 3350               5577\n",
       "\n",
       "[4 rows x 7 columns]"
      ]
     },
     "execution_count": 9,
     "metadata": {
      "tags": []
     },
     "output_type": "execute_result"
    }
   ],
   "source": [
    "train.describe(include=object)\n",
    "## To describe the categorical part \n",
    "## Count describes number of non-null values or observations\n",
    "## Unique describes number of unique values or class\n",
    "## Top describes most occuring class\n",
    "## Frequency describes most repeated class in the dataset."
   ]
  },
  {
   "cell_type": "code",
   "execution_count": null,
   "metadata": {
    "colab": {
     "base_uri": "https://localhost:8080/",
     "height": 1000
    },
    "id": "RUB3B2-H6jvp",
    "outputId": "02c19464-4b87-4186-9a5d-51f65712f38f"
   },
   "outputs": [
    {
     "data": {
      "image/png": "[encoded data removed]",
      "text/plain": [
       "<Figure size 432x288 with 1 Axes>"
      ]
     },
     "metadata": {
      "needs_background": "light",
      "tags": []
     },
     "output_type": "display_data"
    },
    {
     "data": {
      "image/png": "[encoded data removed]",
      "text/plain": [
       "<Figure size 432x288 with 1 Axes>"
      ]
     },
     "metadata": {
      "needs_background": "light",
      "tags": []
     },
     "output_type": "display_data"
    },
    {
     "data": {
      "image/png": "[encoded data removed]",
      "text/plain": [
       "<Figure size 432x288 with 1 Axes>"
      ]
     },
     "metadata": {
      "needs_background": "light",
      "tags": []
     },
     "output_type": "display_data"
    },
    {
     "data": {
      "image/png": "[encoded data removed]",
      "text/plain": [
       "<Figure size 432x288 with 1 Axes>"
      ]
     },
     "metadata": {
      "needs_background": "light",
      "tags": []
     },
     "output_type": "display_data"
    },
    {
     "data": {
      "image/png": "[encoded data removed]",
      "text/plain": [
       "<Figure size 432x288 with 1 Axes>"
      ]
     },
     "metadata": {
      "needs_background": "light",
      "tags": []
     },
     "output_type": "display_data"
    },
    {
     "data": {
      "image/png": "[encoded data removed]",
      "text/plain": [
       "<Figure size 432x288 with 1 Axes>"
      ]
     },
     "metadata": {
      "needs_background": "light",
      "tags": []
     },
     "output_type": "display_data"
    },
    {
     "data": {
      "image/png": "[encoded data removed]",
      "text/plain": [
       "<Figure size 432x288 with 1 Axes>"
      ]
     },
     "metadata": {
      "needs_background": "light",
      "tags": []
     },
     "output_type": "display_data"
    }
   ],
   "source": [
    "import seaborn as sns\n",
    "import matplotlib.pyplot as plt\n",
    "for variable in train.select_dtypes(include='object'):\n",
    "  sns.countplot(train[variable])\n",
    "  plt.show()\n",
    "  ## Item_Identifier column can be dropped as it consists of all the unique entry so no new information is passed down.\n",
    "## Visualise the categorical parts present."
   ]
  },
  {
   "cell_type": "code",
   "execution_count": 2,
   "metadata": {
    "id": "8gmVJ9-U8OC3"
   },
   "outputs": [],
   "source": [
    "train.drop('Item_Identifier',axis=1,inplace=True)\n",
    "### Dropping the item itentifier columns as it consists of unique entries which are not useful."
   ]
  },
  {
   "cell_type": "code",
   "execution_count": null,
   "metadata": {
    "colab": {
     "base_uri": "https://localhost:8080/",
     "height": 409
    },
    "id": "RK3AV0gX9EZ-",
    "outputId": "24cf92a8-0b9a-4cb4-af2d-37cbb7cb7dc5"
   },
   "outputs": [
    {
     "data": {
      "text/plain": [
       "<matplotlib.axes._subplots.AxesSubplot at 0x7f604bac7b70>"
      ]
     },
     "execution_count": 12,
     "metadata": {
      "tags": []
     },
     "output_type": "execute_result"
    },
    {
     "data": {
      "image/png": "[encoded data removed]",
      "text/plain": [
       "<Figure size 432x288 with 2 Axes>"
      ]
     },
     "metadata": {
      "needs_background": "light",
      "tags": []
     },
     "output_type": "display_data"
    }
   ],
   "source": [
    "sns.heatmap(train.corr(),annot=True)\n",
    "## Heatmap also describes the numerical part only."
   ]
  },
  {
   "cell_type": "code",
   "execution_count": null,
   "metadata": {
    "colab": {
     "base_uri": "https://localhost:8080/",
     "height": 920
    },
    "id": "kOFSQqJ-EkOm",
    "outputId": "96f438b0-205f-48a3-a1cf-1214910e5419"
   },
   "outputs": [
    {
     "data": {
      "text/plain": [
       "<seaborn.axisgrid.PairGrid at 0x7f604fdf45c0>"
      ]
     },
     "execution_count": 13,
     "metadata": {
      "tags": []
     },
     "output_type": "execute_result"
    },
    {
     "data": {
      "image/png": "[encoded data removed]",
      "text/plain": [
       "<Figure size 900x900 with 30 Axes>"
      ]
     },
     "metadata": {
      "needs_background": "light",
      "tags": []
     },
     "output_type": "display_data"
    }
   ],
   "source": [
    "sns.pairplot(train)\n",
    "## Outlet_Establishment_Year is a categorical variable so lets convert it into categorical data."
   ]
  },
  {
   "cell_type": "code",
   "execution_count": null,
   "metadata": {
    "colab": {
     "base_uri": "https://localhost:8080/"
    },
    "id": "OGOJNencEwGS",
    "outputId": "c80eb266-0745-4f2b-f99b-d4238529af96"
   },
   "outputs": [
    {
     "data": {
      "text/plain": [
       "1985    1463\n",
       "1987     932\n",
       "1999     930\n",
       "1997     930\n",
       "2004     930\n",
       "2002     929\n",
       "2009     928\n",
       "2007     926\n",
       "1998     555\n",
       "Name: Outlet_Establishment_Year, dtype: int64"
      ]
     },
     "execution_count": 14,
     "metadata": {
      "tags": []
     },
     "output_type": "execute_result"
    }
   ],
   "source": [
    "train['Outlet_Establishment_Year'].value_counts()\n",
    "## There are total of 9 unique categories in year column."
   ]
  },
  {
   "cell_type": "code",
   "execution_count": 3,
   "metadata": {
    "id": "LU1F8vzDHA7K"
   },
   "outputs": [],
   "source": [
    "train['Outlet_Establishment_Year']=train['Outlet_Establishment_Year'].astype(str)\n",
    "## As outlet establishment year is considered as categorical type so 1stly converting it into str dtype and then moving further with one-hot encoding."
   ]
  },
  {
   "cell_type": "code",
   "execution_count": null,
   "metadata": {
    "colab": {
     "base_uri": "https://localhost:8080/"
    },
    "id": "VoX47g0lE9Rg",
    "outputId": "081a48fb-18b1-4cfe-ac14-f93d4e409995"
   },
   "outputs": [
    {
     "data": {
      "text/plain": [
       "12.150    86\n",
       "17.600    82\n",
       "13.650    77\n",
       "11.800    76\n",
       "15.100    68\n",
       "          ..\n",
       "7.560      2\n",
       "9.420      1\n",
       "5.400      1\n",
       "6.520      1\n",
       "7.685      1\n",
       "Name: Item_Weight, Length: 415, dtype: int64"
      ]
     },
     "execution_count": 16,
     "metadata": {
      "tags": []
     },
     "output_type": "execute_result"
    }
   ],
   "source": [
    "train['Item_Weight'].value_counts()"
   ]
  },
  {
   "cell_type": "code",
   "execution_count": null,
   "metadata": {
    "colab": {
     "base_uri": "https://localhost:8080/"
    },
    "id": "HizWLKukHg3H",
    "outputId": "8385756e-b051-4aba-c8fd-3290151cb750"
   },
   "outputs": [
    {
     "data": {
      "text/plain": [
       "Index(['Item_Weight', 'Item_Fat_Content', 'Item_Visibility', 'Item_Type',\n",
       "       'Item_MRP', 'Outlet_Identifier', 'Outlet_Establishment_Year',\n",
       "       'Outlet_Size', 'Outlet_Location_Type', 'Outlet_Type',\n",
       "       'Item_Outlet_Sales'],\n",
       "      dtype='object')"
      ]
     },
     "execution_count": 17,
     "metadata": {
      "tags": []
     },
     "output_type": "execute_result"
    }
   ],
   "source": [
    "train.columns"
   ]
  },
  {
   "cell_type": "code",
   "execution_count": 4,
   "metadata": {
    "id": "dJzHr6khJ9Bh"
   },
   "outputs": [],
   "source": [
    "## Separating the target and independent variables.\n",
    "X=train.drop('Item_Outlet_Sales',axis=1)\n",
    "Y=train['Item_Outlet_Sales']\n",
    "num=train.select_dtypes(exclude='object')"
   ]
  },
  {
   "cell_type": "code",
   "execution_count": 5,
   "metadata": {
    "id": "oJeROU2-D6Lc"
   },
   "outputs": [],
   "source": [
    "## To impute the missing values a pipeline is created which impute the numerical values with median and categorical values with most freqently occuring class.\n",
    "## All the other columns are dropped which are not described in this.\n",
    "## Fit and transfrom method is applied so that the model first learn and then apply the changes.\n",
    "import pandas as pd \n",
    "import numpy as np \n",
    "  \n",
    "from sklearn.compose import ColumnTransformer \n",
    "from sklearn.model_selection import train_test_split, cross_val_score \n",
    "from sklearn.impute import SimpleImputer \n",
    "from sklearn.preprocessing import OneHotEncoder, StandardScaler, MinMaxScaler \n",
    "from sklearn.pipeline import Pipeline\n",
    "trf1 = ColumnTransformer(transformers =[ \n",
    "    ('cat', SimpleImputer(strategy ='most_frequent'), ['Item_Fat_Content','Item_Type','Outlet_Identifier','Outlet_Establishment_Year','Outlet_Size',\n",
    "                                                       'Outlet_Location_Type']), \n",
    "    ('num', SimpleImputer(strategy ='median'), ['Item_Weight','Item_Visibility','Item_MRP']), \n",
    "      \n",
    "])\n",
    "first_step = trf1.fit_transform(X)\n"
   ]
  },
  {
   "cell_type": "code",
   "execution_count": 6,
   "metadata": {
    "colab": {
     "base_uri": "https://localhost:8080/",
     "height": 204
    },
    "id": "Yg8enuS3IISW",
    "outputId": "46cfc14e-65a0-4847-a631-2cc0d7b9ffd3"
   },
   "outputs": [
    {
     "data": {
      "text/html": [
       "<div>\n",
       "<style scoped>\n",
       "    .dataframe tbody tr th:only-of-type {\n",
       "        vertical-align: middle;\n",
       "    }\n",
       "\n",
       "    .dataframe tbody tr th {\n",
       "        vertical-align: top;\n",
       "    }\n",
       "\n",
       "    .dataframe thead th {\n",
       "        text-align: right;\n",
       "    }\n",
       "</style>\n",
       "<table border=\"1\" class=\"dataframe\">\n",
       "  <thead>\n",
       "    <tr style=\"text-align: right;\">\n",
       "      <th></th>\n",
       "      <th>Item_Fat_Content</th>\n",
       "      <th>Item_Type</th>\n",
       "      <th>Outlet_Identifier</th>\n",
       "      <th>Outlet_Establishment_Year</th>\n",
       "      <th>Outlet_Size</th>\n",
       "      <th>Outlet_Location_Type</th>\n",
       "      <th>Item_Weight</th>\n",
       "      <th>Item_Visibility</th>\n",
       "      <th>Item_MRP</th>\n",
       "    </tr>\n",
       "  </thead>\n",
       "  <tbody>\n",
       "    <tr>\n",
       "      <th>0</th>\n",
       "      <td>Low Fat</td>\n",
       "      <td>Dairy</td>\n",
       "      <td>OUT049</td>\n",
       "      <td>1999</td>\n",
       "      <td>Medium</td>\n",
       "      <td>Tier 1</td>\n",
       "      <td>9.3</td>\n",
       "      <td>0.0160473</td>\n",
       "      <td>249.809</td>\n",
       "    </tr>\n",
       "    <tr>\n",
       "      <th>1</th>\n",
       "      <td>Regular</td>\n",
       "      <td>Soft Drinks</td>\n",
       "      <td>OUT018</td>\n",
       "      <td>2009</td>\n",
       "      <td>Medium</td>\n",
       "      <td>Tier 3</td>\n",
       "      <td>5.92</td>\n",
       "      <td>0.0192782</td>\n",
       "      <td>48.2692</td>\n",
       "    </tr>\n",
       "    <tr>\n",
       "      <th>2</th>\n",
       "      <td>Low Fat</td>\n",
       "      <td>Meat</td>\n",
       "      <td>OUT049</td>\n",
       "      <td>1999</td>\n",
       "      <td>Medium</td>\n",
       "      <td>Tier 1</td>\n",
       "      <td>17.5</td>\n",
       "      <td>0.0167601</td>\n",
       "      <td>141.618</td>\n",
       "    </tr>\n",
       "    <tr>\n",
       "      <th>3</th>\n",
       "      <td>Regular</td>\n",
       "      <td>Fruits and Vegetables</td>\n",
       "      <td>OUT010</td>\n",
       "      <td>1998</td>\n",
       "      <td>Medium</td>\n",
       "      <td>Tier 3</td>\n",
       "      <td>19.2</td>\n",
       "      <td>0</td>\n",
       "      <td>182.095</td>\n",
       "    </tr>\n",
       "    <tr>\n",
       "      <th>4</th>\n",
       "      <td>Low Fat</td>\n",
       "      <td>Household</td>\n",
       "      <td>OUT013</td>\n",
       "      <td>1987</td>\n",
       "      <td>High</td>\n",
       "      <td>Tier 3</td>\n",
       "      <td>8.93</td>\n",
       "      <td>0</td>\n",
       "      <td>53.8614</td>\n",
       "    </tr>\n",
       "  </tbody>\n",
       "</table>\n",
       "</div>"
      ],
      "text/plain": [
       "  Item_Fat_Content              Item_Type  ... Item_Visibility Item_MRP\n",
       "0          Low Fat                  Dairy  ...       0.0160473  249.809\n",
       "1          Regular            Soft Drinks  ...       0.0192782  48.2692\n",
       "2          Low Fat                   Meat  ...       0.0167601  141.618\n",
       "3          Regular  Fruits and Vegetables  ...               0  182.095\n",
       "4          Low Fat              Household  ...               0  53.8614\n",
       "\n",
       "[5 rows x 9 columns]"
      ]
     },
     "execution_count": 6,
     "metadata": {
      "tags": []
     },
     "output_type": "execute_result"
    }
   ],
   "source": [
    "col=['Item_Fat_Content','Item_Type','Outlet_Identifier','Outlet_Establishment_Year','Outlet_Size','Outlet_Location_Type',\n",
    "     'Item_Weight','Item_Visibility','Item_MRP']\n",
    "fin_df=pd.DataFrame(first_step,columns=col)\n",
    "fin_df.head()"
   ]
  },
  {
   "cell_type": "code",
   "execution_count": null,
   "metadata": {
    "colab": {
     "base_uri": "https://localhost:8080/"
    },
    "id": "-_jaA2KAIN8q",
    "outputId": "da9ad431-dd32-4ee8-c7f1-af81e1c80f72"
   },
   "outputs": [
    {
     "data": {
      "text/plain": [
       "Item_Fat_Content             0\n",
       "Item_Type                    0\n",
       "Outlet_Identifier            0\n",
       "Outlet_Establishment_Year    0\n",
       "Outlet_Size                  0\n",
       "Outlet_Location_Type         0\n",
       "Item_Weight                  0\n",
       "Item_Visibility              0\n",
       "Item_MRP                     0\n",
       "dtype: int64"
      ]
     },
     "execution_count": 17,
     "metadata": {
      "tags": []
     },
     "output_type": "execute_result"
    }
   ],
   "source": [
    "fin_df.isna().sum()\n",
    "## Checking the null values after imputation. All the null values were treated properly."
   ]
  },
  {
   "cell_type": "code",
   "execution_count": 7,
   "metadata": {
    "colab": {
     "base_uri": "https://localhost:8080/",
     "height": 241
    },
    "id": "rYg5Ly2nQ8Os",
    "outputId": "328ede02-3330-4972-b47e-5aa95388db97"
   },
   "outputs": [
    {
     "data": {
      "text/html": [
       "<div>\n",
       "<style scoped>\n",
       "    .dataframe tbody tr th:only-of-type {\n",
       "        vertical-align: middle;\n",
       "    }\n",
       "\n",
       "    .dataframe tbody tr th {\n",
       "        vertical-align: top;\n",
       "    }\n",
       "\n",
       "    .dataframe thead th {\n",
       "        text-align: right;\n",
       "    }\n",
       "</style>\n",
       "<table border=\"1\" class=\"dataframe\">\n",
       "  <thead>\n",
       "    <tr style=\"text-align: right;\">\n",
       "      <th></th>\n",
       "      <th>Item_Weight</th>\n",
       "      <th>Item_Visibility</th>\n",
       "      <th>Item_MRP</th>\n",
       "      <th>Item_Fat_Content_Low Fat</th>\n",
       "      <th>Item_Fat_Content_Regular</th>\n",
       "      <th>Item_Fat_Content_low fat</th>\n",
       "      <th>Item_Fat_Content_reg</th>\n",
       "      <th>Item_Type_Breads</th>\n",
       "      <th>Item_Type_Breakfast</th>\n",
       "      <th>Item_Type_Canned</th>\n",
       "      <th>Item_Type_Dairy</th>\n",
       "      <th>Item_Type_Frozen Foods</th>\n",
       "      <th>Item_Type_Fruits and Vegetables</th>\n",
       "      <th>Item_Type_Hard Drinks</th>\n",
       "      <th>Item_Type_Health and Hygiene</th>\n",
       "      <th>Item_Type_Household</th>\n",
       "      <th>Item_Type_Meat</th>\n",
       "      <th>Item_Type_Others</th>\n",
       "      <th>Item_Type_Seafood</th>\n",
       "      <th>Item_Type_Snack Foods</th>\n",
       "      <th>Item_Type_Soft Drinks</th>\n",
       "      <th>Item_Type_Starchy Foods</th>\n",
       "      <th>Outlet_Identifier_OUT013</th>\n",
       "      <th>Outlet_Identifier_OUT017</th>\n",
       "      <th>Outlet_Identifier_OUT018</th>\n",
       "      <th>Outlet_Identifier_OUT019</th>\n",
       "      <th>Outlet_Identifier_OUT027</th>\n",
       "      <th>Outlet_Identifier_OUT035</th>\n",
       "      <th>Outlet_Identifier_OUT045</th>\n",
       "      <th>Outlet_Identifier_OUT046</th>\n",
       "      <th>Outlet_Identifier_OUT049</th>\n",
       "      <th>Outlet_Establishment_Year_1987</th>\n",
       "      <th>Outlet_Establishment_Year_1997</th>\n",
       "      <th>Outlet_Establishment_Year_1998</th>\n",
       "      <th>Outlet_Establishment_Year_1999</th>\n",
       "      <th>Outlet_Establishment_Year_2002</th>\n",
       "      <th>Outlet_Establishment_Year_2004</th>\n",
       "      <th>Outlet_Establishment_Year_2007</th>\n",
       "      <th>Outlet_Establishment_Year_2009</th>\n",
       "      <th>Outlet_Size_Medium</th>\n",
       "      <th>Outlet_Size_Small</th>\n",
       "      <th>Outlet_Location_Type_Tier 2</th>\n",
       "      <th>Outlet_Location_Type_Tier 3</th>\n",
       "    </tr>\n",
       "  </thead>\n",
       "  <tbody>\n",
       "    <tr>\n",
       "      <th>0</th>\n",
       "      <td>9.3</td>\n",
       "      <td>0.0160473</td>\n",
       "      <td>249.809</td>\n",
       "      <td>1</td>\n",
       "      <td>0</td>\n",
       "      <td>0</td>\n",
       "      <td>0</td>\n",
       "      <td>0</td>\n",
       "      <td>0</td>\n",
       "      <td>0</td>\n",
       "      <td>1</td>\n",
       "      <td>0</td>\n",
       "      <td>0</td>\n",
       "      <td>0</td>\n",
       "      <td>0</td>\n",
       "      <td>0</td>\n",
       "      <td>0</td>\n",
       "      <td>0</td>\n",
       "      <td>0</td>\n",
       "      <td>0</td>\n",
       "      <td>0</td>\n",
       "      <td>0</td>\n",
       "      <td>0</td>\n",
       "      <td>0</td>\n",
       "      <td>0</td>\n",
       "      <td>0</td>\n",
       "      <td>0</td>\n",
       "      <td>0</td>\n",
       "      <td>0</td>\n",
       "      <td>0</td>\n",
       "      <td>1</td>\n",
       "      <td>0</td>\n",
       "      <td>0</td>\n",
       "      <td>0</td>\n",
       "      <td>1</td>\n",
       "      <td>0</td>\n",
       "      <td>0</td>\n",
       "      <td>0</td>\n",
       "      <td>0</td>\n",
       "      <td>1</td>\n",
       "      <td>0</td>\n",
       "      <td>0</td>\n",
       "      <td>0</td>\n",
       "    </tr>\n",
       "    <tr>\n",
       "      <th>1</th>\n",
       "      <td>5.92</td>\n",
       "      <td>0.0192782</td>\n",
       "      <td>48.2692</td>\n",
       "      <td>0</td>\n",
       "      <td>1</td>\n",
       "      <td>0</td>\n",
       "      <td>0</td>\n",
       "      <td>0</td>\n",
       "      <td>0</td>\n",
       "      <td>0</td>\n",
       "      <td>0</td>\n",
       "      <td>0</td>\n",
       "      <td>0</td>\n",
       "      <td>0</td>\n",
       "      <td>0</td>\n",
       "      <td>0</td>\n",
       "      <td>0</td>\n",
       "      <td>0</td>\n",
       "      <td>0</td>\n",
       "      <td>0</td>\n",
       "      <td>1</td>\n",
       "      <td>0</td>\n",
       "      <td>0</td>\n",
       "      <td>0</td>\n",
       "      <td>1</td>\n",
       "      <td>0</td>\n",
       "      <td>0</td>\n",
       "      <td>0</td>\n",
       "      <td>0</td>\n",
       "      <td>0</td>\n",
       "      <td>0</td>\n",
       "      <td>0</td>\n",
       "      <td>0</td>\n",
       "      <td>0</td>\n",
       "      <td>0</td>\n",
       "      <td>0</td>\n",
       "      <td>0</td>\n",
       "      <td>0</td>\n",
       "      <td>1</td>\n",
       "      <td>1</td>\n",
       "      <td>0</td>\n",
       "      <td>0</td>\n",
       "      <td>1</td>\n",
       "    </tr>\n",
       "    <tr>\n",
       "      <th>2</th>\n",
       "      <td>17.5</td>\n",
       "      <td>0.0167601</td>\n",
       "      <td>141.618</td>\n",
       "      <td>1</td>\n",
       "      <td>0</td>\n",
       "      <td>0</td>\n",
       "      <td>0</td>\n",
       "      <td>0</td>\n",
       "      <td>0</td>\n",
       "      <td>0</td>\n",
       "      <td>0</td>\n",
       "      <td>0</td>\n",
       "      <td>0</td>\n",
       "      <td>0</td>\n",
       "      <td>0</td>\n",
       "      <td>0</td>\n",
       "      <td>1</td>\n",
       "      <td>0</td>\n",
       "      <td>0</td>\n",
       "      <td>0</td>\n",
       "      <td>0</td>\n",
       "      <td>0</td>\n",
       "      <td>0</td>\n",
       "      <td>0</td>\n",
       "      <td>0</td>\n",
       "      <td>0</td>\n",
       "      <td>0</td>\n",
       "      <td>0</td>\n",
       "      <td>0</td>\n",
       "      <td>0</td>\n",
       "      <td>1</td>\n",
       "      <td>0</td>\n",
       "      <td>0</td>\n",
       "      <td>0</td>\n",
       "      <td>1</td>\n",
       "      <td>0</td>\n",
       "      <td>0</td>\n",
       "      <td>0</td>\n",
       "      <td>0</td>\n",
       "      <td>1</td>\n",
       "      <td>0</td>\n",
       "      <td>0</td>\n",
       "      <td>0</td>\n",
       "    </tr>\n",
       "    <tr>\n",
       "      <th>3</th>\n",
       "      <td>19.2</td>\n",
       "      <td>0</td>\n",
       "      <td>182.095</td>\n",
       "      <td>0</td>\n",
       "      <td>1</td>\n",
       "      <td>0</td>\n",
       "      <td>0</td>\n",
       "      <td>0</td>\n",
       "      <td>0</td>\n",
       "      <td>0</td>\n",
       "      <td>0</td>\n",
       "      <td>0</td>\n",
       "      <td>1</td>\n",
       "      <td>0</td>\n",
       "      <td>0</td>\n",
       "      <td>0</td>\n",
       "      <td>0</td>\n",
       "      <td>0</td>\n",
       "      <td>0</td>\n",
       "      <td>0</td>\n",
       "      <td>0</td>\n",
       "      <td>0</td>\n",
       "      <td>0</td>\n",
       "      <td>0</td>\n",
       "      <td>0</td>\n",
       "      <td>0</td>\n",
       "      <td>0</td>\n",
       "      <td>0</td>\n",
       "      <td>0</td>\n",
       "      <td>0</td>\n",
       "      <td>0</td>\n",
       "      <td>0</td>\n",
       "      <td>0</td>\n",
       "      <td>1</td>\n",
       "      <td>0</td>\n",
       "      <td>0</td>\n",
       "      <td>0</td>\n",
       "      <td>0</td>\n",
       "      <td>0</td>\n",
       "      <td>1</td>\n",
       "      <td>0</td>\n",
       "      <td>0</td>\n",
       "      <td>1</td>\n",
       "    </tr>\n",
       "    <tr>\n",
       "      <th>4</th>\n",
       "      <td>8.93</td>\n",
       "      <td>0</td>\n",
       "      <td>53.8614</td>\n",
       "      <td>1</td>\n",
       "      <td>0</td>\n",
       "      <td>0</td>\n",
       "      <td>0</td>\n",
       "      <td>0</td>\n",
       "      <td>0</td>\n",
       "      <td>0</td>\n",
       "      <td>0</td>\n",
       "      <td>0</td>\n",
       "      <td>0</td>\n",
       "      <td>0</td>\n",
       "      <td>0</td>\n",
       "      <td>1</td>\n",
       "      <td>0</td>\n",
       "      <td>0</td>\n",
       "      <td>0</td>\n",
       "      <td>0</td>\n",
       "      <td>0</td>\n",
       "      <td>0</td>\n",
       "      <td>1</td>\n",
       "      <td>0</td>\n",
       "      <td>0</td>\n",
       "      <td>0</td>\n",
       "      <td>0</td>\n",
       "      <td>0</td>\n",
       "      <td>0</td>\n",
       "      <td>0</td>\n",
       "      <td>0</td>\n",
       "      <td>1</td>\n",
       "      <td>0</td>\n",
       "      <td>0</td>\n",
       "      <td>0</td>\n",
       "      <td>0</td>\n",
       "      <td>0</td>\n",
       "      <td>0</td>\n",
       "      <td>0</td>\n",
       "      <td>0</td>\n",
       "      <td>0</td>\n",
       "      <td>0</td>\n",
       "      <td>1</td>\n",
       "    </tr>\n",
       "  </tbody>\n",
       "</table>\n",
       "</div>"
      ],
      "text/plain": [
       "  Item_Weight  ... Outlet_Location_Type_Tier 3\n",
       "0         9.3  ...                           0\n",
       "1        5.92  ...                           1\n",
       "2        17.5  ...                           0\n",
       "3        19.2  ...                           1\n",
       "4        8.93  ...                           1\n",
       "\n",
       "[5 rows x 43 columns]"
      ]
     },
     "execution_count": 7,
     "metadata": {
      "tags": []
     },
     "output_type": "execute_result"
    }
   ],
   "source": [
    "## One hot encoding is applied on the categorical columns so that it can be converted into numerical variables for model fitting.\n",
    "cat=pd.get_dummies(fin_df,columns=['Item_Fat_Content','Item_Type','Outlet_Identifier','Outlet_Establishment_Year','Outlet_Size','Outlet_Location_Type'],\n",
    "                   drop_first=True)\n",
    "cat.head()"
   ]
  },
  {
   "cell_type": "code",
   "execution_count": 8,
   "metadata": {
    "id": "nqL6xhuSRWnh"
   },
   "outputs": [],
   "source": [
    "## Scaling the numerical variables.\n",
    "a=cat[['Item_Weight','Item_Visibility','Item_MRP']]\n",
    "b=a.columns\n",
    "sc=StandardScaler()\n",
    "a=sc.fit_transform(a)"
   ]
  },
  {
   "cell_type": "code",
   "execution_count": 9,
   "metadata": {
    "id": "WwnkJMspSd8G"
   },
   "outputs": [],
   "source": [
    "num=pd.DataFrame(a,columns=b)"
   ]
  },
  {
   "cell_type": "code",
   "execution_count": 10,
   "metadata": {
    "colab": {
     "base_uri": "https://localhost:8080/",
     "height": 241
    },
    "id": "gWCAV1mhSwcZ",
    "outputId": "5a62d00e-9de9-4bed-b664-51d8f0b11930"
   },
   "outputs": [
    {
     "data": {
      "text/html": [
       "<div>\n",
       "<style scoped>\n",
       "    .dataframe tbody tr th:only-of-type {\n",
       "        vertical-align: middle;\n",
       "    }\n",
       "\n",
       "    .dataframe tbody tr th {\n",
       "        vertical-align: top;\n",
       "    }\n",
       "\n",
       "    .dataframe thead th {\n",
       "        text-align: right;\n",
       "    }\n",
       "</style>\n",
       "<table border=\"1\" class=\"dataframe\">\n",
       "  <thead>\n",
       "    <tr style=\"text-align: right;\">\n",
       "      <th></th>\n",
       "      <th>Item_Weight</th>\n",
       "      <th>Item_Visibility</th>\n",
       "      <th>Item_MRP</th>\n",
       "      <th>Item_Fat_Content_Low Fat</th>\n",
       "      <th>Item_Fat_Content_Regular</th>\n",
       "      <th>Item_Fat_Content_low fat</th>\n",
       "      <th>Item_Fat_Content_reg</th>\n",
       "      <th>Item_Type_Breads</th>\n",
       "      <th>Item_Type_Breakfast</th>\n",
       "      <th>Item_Type_Canned</th>\n",
       "      <th>Item_Type_Dairy</th>\n",
       "      <th>Item_Type_Frozen Foods</th>\n",
       "      <th>Item_Type_Fruits and Vegetables</th>\n",
       "      <th>Item_Type_Hard Drinks</th>\n",
       "      <th>Item_Type_Health and Hygiene</th>\n",
       "      <th>Item_Type_Household</th>\n",
       "      <th>Item_Type_Meat</th>\n",
       "      <th>Item_Type_Others</th>\n",
       "      <th>Item_Type_Seafood</th>\n",
       "      <th>Item_Type_Snack Foods</th>\n",
       "      <th>Item_Type_Soft Drinks</th>\n",
       "      <th>Item_Type_Starchy Foods</th>\n",
       "      <th>Outlet_Identifier_OUT013</th>\n",
       "      <th>Outlet_Identifier_OUT017</th>\n",
       "      <th>Outlet_Identifier_OUT018</th>\n",
       "      <th>Outlet_Identifier_OUT019</th>\n",
       "      <th>Outlet_Identifier_OUT027</th>\n",
       "      <th>Outlet_Identifier_OUT035</th>\n",
       "      <th>Outlet_Identifier_OUT045</th>\n",
       "      <th>Outlet_Identifier_OUT046</th>\n",
       "      <th>Outlet_Identifier_OUT049</th>\n",
       "      <th>Outlet_Establishment_Year_1987</th>\n",
       "      <th>Outlet_Establishment_Year_1997</th>\n",
       "      <th>Outlet_Establishment_Year_1998</th>\n",
       "      <th>Outlet_Establishment_Year_1999</th>\n",
       "      <th>Outlet_Establishment_Year_2002</th>\n",
       "      <th>Outlet_Establishment_Year_2004</th>\n",
       "      <th>Outlet_Establishment_Year_2007</th>\n",
       "      <th>Outlet_Establishment_Year_2009</th>\n",
       "      <th>Outlet_Size_Medium</th>\n",
       "      <th>Outlet_Size_Small</th>\n",
       "      <th>Outlet_Location_Type_Tier 2</th>\n",
       "      <th>Outlet_Location_Type_Tier 3</th>\n",
       "    </tr>\n",
       "  </thead>\n",
       "  <tbody>\n",
       "    <tr>\n",
       "      <th>0</th>\n",
       "      <td>-0.831187</td>\n",
       "      <td>-0.970732</td>\n",
       "      <td>1.747454</td>\n",
       "      <td>1</td>\n",
       "      <td>0</td>\n",
       "      <td>0</td>\n",
       "      <td>0</td>\n",
       "      <td>0</td>\n",
       "      <td>0</td>\n",
       "      <td>0</td>\n",
       "      <td>1</td>\n",
       "      <td>0</td>\n",
       "      <td>0</td>\n",
       "      <td>0</td>\n",
       "      <td>0</td>\n",
       "      <td>0</td>\n",
       "      <td>0</td>\n",
       "      <td>0</td>\n",
       "      <td>0</td>\n",
       "      <td>0</td>\n",
       "      <td>0</td>\n",
       "      <td>0</td>\n",
       "      <td>0</td>\n",
       "      <td>0</td>\n",
       "      <td>0</td>\n",
       "      <td>0</td>\n",
       "      <td>0</td>\n",
       "      <td>0</td>\n",
       "      <td>0</td>\n",
       "      <td>0</td>\n",
       "      <td>1</td>\n",
       "      <td>0</td>\n",
       "      <td>0</td>\n",
       "      <td>0</td>\n",
       "      <td>1</td>\n",
       "      <td>0</td>\n",
       "      <td>0</td>\n",
       "      <td>0</td>\n",
       "      <td>0</td>\n",
       "      <td>1</td>\n",
       "      <td>0</td>\n",
       "      <td>0</td>\n",
       "      <td>0</td>\n",
       "    </tr>\n",
       "    <tr>\n",
       "      <th>1</th>\n",
       "      <td>-1.630810</td>\n",
       "      <td>-0.908111</td>\n",
       "      <td>-1.489023</td>\n",
       "      <td>0</td>\n",
       "      <td>1</td>\n",
       "      <td>0</td>\n",
       "      <td>0</td>\n",
       "      <td>0</td>\n",
       "      <td>0</td>\n",
       "      <td>0</td>\n",
       "      <td>0</td>\n",
       "      <td>0</td>\n",
       "      <td>0</td>\n",
       "      <td>0</td>\n",
       "      <td>0</td>\n",
       "      <td>0</td>\n",
       "      <td>0</td>\n",
       "      <td>0</td>\n",
       "      <td>0</td>\n",
       "      <td>0</td>\n",
       "      <td>1</td>\n",
       "      <td>0</td>\n",
       "      <td>0</td>\n",
       "      <td>0</td>\n",
       "      <td>1</td>\n",
       "      <td>0</td>\n",
       "      <td>0</td>\n",
       "      <td>0</td>\n",
       "      <td>0</td>\n",
       "      <td>0</td>\n",
       "      <td>0</td>\n",
       "      <td>0</td>\n",
       "      <td>0</td>\n",
       "      <td>0</td>\n",
       "      <td>0</td>\n",
       "      <td>0</td>\n",
       "      <td>0</td>\n",
       "      <td>0</td>\n",
       "      <td>1</td>\n",
       "      <td>1</td>\n",
       "      <td>0</td>\n",
       "      <td>0</td>\n",
       "      <td>1</td>\n",
       "    </tr>\n",
       "    <tr>\n",
       "      <th>2</th>\n",
       "      <td>1.108727</td>\n",
       "      <td>-0.956917</td>\n",
       "      <td>0.010040</td>\n",
       "      <td>1</td>\n",
       "      <td>0</td>\n",
       "      <td>0</td>\n",
       "      <td>0</td>\n",
       "      <td>0</td>\n",
       "      <td>0</td>\n",
       "      <td>0</td>\n",
       "      <td>0</td>\n",
       "      <td>0</td>\n",
       "      <td>0</td>\n",
       "      <td>0</td>\n",
       "      <td>0</td>\n",
       "      <td>0</td>\n",
       "      <td>1</td>\n",
       "      <td>0</td>\n",
       "      <td>0</td>\n",
       "      <td>0</td>\n",
       "      <td>0</td>\n",
       "      <td>0</td>\n",
       "      <td>0</td>\n",
       "      <td>0</td>\n",
       "      <td>0</td>\n",
       "      <td>0</td>\n",
       "      <td>0</td>\n",
       "      <td>0</td>\n",
       "      <td>0</td>\n",
       "      <td>0</td>\n",
       "      <td>1</td>\n",
       "      <td>0</td>\n",
       "      <td>0</td>\n",
       "      <td>0</td>\n",
       "      <td>1</td>\n",
       "      <td>0</td>\n",
       "      <td>0</td>\n",
       "      <td>0</td>\n",
       "      <td>0</td>\n",
       "      <td>1</td>\n",
       "      <td>0</td>\n",
       "      <td>0</td>\n",
       "      <td>0</td>\n",
       "    </tr>\n",
       "    <tr>\n",
       "      <th>3</th>\n",
       "      <td>1.510904</td>\n",
       "      <td>-1.281758</td>\n",
       "      <td>0.660050</td>\n",
       "      <td>0</td>\n",
       "      <td>1</td>\n",
       "      <td>0</td>\n",
       "      <td>0</td>\n",
       "      <td>0</td>\n",
       "      <td>0</td>\n",
       "      <td>0</td>\n",
       "      <td>0</td>\n",
       "      <td>0</td>\n",
       "      <td>1</td>\n",
       "      <td>0</td>\n",
       "      <td>0</td>\n",
       "      <td>0</td>\n",
       "      <td>0</td>\n",
       "      <td>0</td>\n",
       "      <td>0</td>\n",
       "      <td>0</td>\n",
       "      <td>0</td>\n",
       "      <td>0</td>\n",
       "      <td>0</td>\n",
       "      <td>0</td>\n",
       "      <td>0</td>\n",
       "      <td>0</td>\n",
       "      <td>0</td>\n",
       "      <td>0</td>\n",
       "      <td>0</td>\n",
       "      <td>0</td>\n",
       "      <td>0</td>\n",
       "      <td>0</td>\n",
       "      <td>0</td>\n",
       "      <td>1</td>\n",
       "      <td>0</td>\n",
       "      <td>0</td>\n",
       "      <td>0</td>\n",
       "      <td>0</td>\n",
       "      <td>0</td>\n",
       "      <td>1</td>\n",
       "      <td>0</td>\n",
       "      <td>0</td>\n",
       "      <td>1</td>\n",
       "    </tr>\n",
       "    <tr>\n",
       "      <th>4</th>\n",
       "      <td>-0.918719</td>\n",
       "      <td>-1.281758</td>\n",
       "      <td>-1.399220</td>\n",
       "      <td>1</td>\n",
       "      <td>0</td>\n",
       "      <td>0</td>\n",
       "      <td>0</td>\n",
       "      <td>0</td>\n",
       "      <td>0</td>\n",
       "      <td>0</td>\n",
       "      <td>0</td>\n",
       "      <td>0</td>\n",
       "      <td>0</td>\n",
       "      <td>0</td>\n",
       "      <td>0</td>\n",
       "      <td>1</td>\n",
       "      <td>0</td>\n",
       "      <td>0</td>\n",
       "      <td>0</td>\n",
       "      <td>0</td>\n",
       "      <td>0</td>\n",
       "      <td>0</td>\n",
       "      <td>1</td>\n",
       "      <td>0</td>\n",
       "      <td>0</td>\n",
       "      <td>0</td>\n",
       "      <td>0</td>\n",
       "      <td>0</td>\n",
       "      <td>0</td>\n",
       "      <td>0</td>\n",
       "      <td>0</td>\n",
       "      <td>1</td>\n",
       "      <td>0</td>\n",
       "      <td>0</td>\n",
       "      <td>0</td>\n",
       "      <td>0</td>\n",
       "      <td>0</td>\n",
       "      <td>0</td>\n",
       "      <td>0</td>\n",
       "      <td>0</td>\n",
       "      <td>0</td>\n",
       "      <td>0</td>\n",
       "      <td>1</td>\n",
       "    </tr>\n",
       "  </tbody>\n",
       "</table>\n",
       "</div>"
      ],
      "text/plain": [
       "   Item_Weight  ...  Outlet_Location_Type_Tier 3\n",
       "0    -0.831187  ...                            0\n",
       "1    -1.630810  ...                            1\n",
       "2     1.108727  ...                            0\n",
       "3     1.510904  ...                            1\n",
       "4    -0.918719  ...                            1\n",
       "\n",
       "[5 rows x 43 columns]"
      ]
     },
     "execution_count": 10,
     "metadata": {
      "tags": []
     },
     "output_type": "execute_result"
    }
   ],
   "source": [
    "## Concatinating the numerical and categorical dataype after the encoding and standarization method.\n",
    "df_fin=pd.concat([num,cat.iloc[:,3:]],axis=1)\n",
    "df_fin.head()"
   ]
  },
  {
   "cell_type": "markdown",
   "metadata": {
    "id": "pbH0gc2Tz_zH"
   },
   "source": [
    "## Lets check and build the basic model considering all the columns."
   ]
  },
  {
   "cell_type": "code",
   "execution_count": 11,
   "metadata": {
    "colab": {
     "base_uri": "https://localhost:8080/",
     "height": 1000
    },
    "id": "QcSqnCBqS_VE",
    "outputId": "d55aaabe-768e-4b07-e45d-f660aea37c0c"
   },
   "outputs": [
    {
     "data": {
      "text/html": [
       "<table class=\"simpletable\">\n",
       "<caption>OLS Regression Results</caption>\n",
       "<tr>\n",
       "  <th>Dep. Variable:</th>    <td>Item_Outlet_Sales</td> <th>  R-squared:         </th> <td>   0.564</td> \n",
       "</tr>\n",
       "<tr>\n",
       "  <th>Model:</th>                   <td>OLS</td>        <th>  Adj. R-squared:    </th> <td>   0.562</td> \n",
       "</tr>\n",
       "<tr>\n",
       "  <th>Method:</th>             <td>Least Squares</td>   <th>  F-statistic:       </th> <td>   354.0</td> \n",
       "</tr>\n",
       "<tr>\n",
       "  <th>Date:</th>             <td>Mon, 14 Dec 2020</td>  <th>  Prob (F-statistic):</th>  <td>  0.00</td>  \n",
       "</tr>\n",
       "<tr>\n",
       "  <th>Time:</th>                 <td>04:14:47</td>      <th>  Log-Likelihood:    </th> <td> -71988.</td> \n",
       "</tr>\n",
       "<tr>\n",
       "  <th>No. Observations:</th>      <td>  8523</td>       <th>  AIC:               </th> <td>1.440e+05</td>\n",
       "</tr>\n",
       "<tr>\n",
       "  <th>Df Residuals:</th>          <td>  8491</td>       <th>  BIC:               </th> <td>1.443e+05</td>\n",
       "</tr>\n",
       "<tr>\n",
       "  <th>Df Model:</th>              <td>    31</td>       <th>                     </th>     <td> </td>    \n",
       "</tr>\n",
       "<tr>\n",
       "  <th>Covariance Type:</th>      <td>nonrobust</td>     <th>                     </th>     <td> </td>    \n",
       "</tr>\n",
       "</table>\n",
       "<table class=\"simpletable\">\n",
       "<tr>\n",
       "                 <td></td>                    <th>coef</th>     <th>std err</th>      <th>t</th>      <th>P>|t|</th>  <th>[0.025</th>    <th>0.975]</th>  \n",
       "</tr>\n",
       "<tr>\n",
       "  <th>const</th>                           <td> 6.453e+14</td> <td> 1.25e+15</td> <td>    0.516</td> <td> 0.606</td> <td>-1.81e+15</td> <td>  3.1e+15</td>\n",
       "</tr>\n",
       "<tr>\n",
       "  <th>Item_Weight</th>                     <td>   -2.7218</td> <td>   12.375</td> <td>   -0.220</td> <td> 0.826</td> <td>  -26.980</td> <td>   21.536</td>\n",
       "</tr>\n",
       "<tr>\n",
       "  <th>Item_Visibility</th>                 <td>  -15.6092</td> <td>   12.837</td> <td>   -1.216</td> <td> 0.224</td> <td>  -40.773</td> <td>    9.555</td>\n",
       "</tr>\n",
       "<tr>\n",
       "  <th>Item_MRP</th>                        <td>  969.3343</td> <td>   12.318</td> <td>   78.694</td> <td> 0.000</td> <td>  945.188</td> <td>  993.480</td>\n",
       "</tr>\n",
       "<tr>\n",
       "  <th>Item_Fat_Content_Low Fat</th>        <td>   30.9168</td> <td>   65.562</td> <td>    0.472</td> <td> 0.637</td> <td>  -97.602</td> <td>  159.435</td>\n",
       "</tr>\n",
       "<tr>\n",
       "  <th>Item_Fat_Content_Regular</th>        <td>   75.0208</td> <td>   68.065</td> <td>    1.102</td> <td> 0.270</td> <td>  -58.402</td> <td>  208.444</td>\n",
       "</tr>\n",
       "<tr>\n",
       "  <th>Item_Fat_Content_low fat</th>        <td>   78.3754</td> <td>  124.425</td> <td>    0.630</td> <td> 0.529</td> <td> -165.528</td> <td>  322.279</td>\n",
       "</tr>\n",
       "<tr>\n",
       "  <th>Item_Fat_Content_reg</th>            <td>  -28.1479</td> <td>  123.021</td> <td>   -0.229</td> <td> 0.819</td> <td> -269.300</td> <td>  213.004</td>\n",
       "</tr>\n",
       "<tr>\n",
       "  <th>Item_Type_Breads</th>                <td>    3.9249</td> <td>   84.067</td> <td>    0.047</td> <td> 0.963</td> <td> -160.867</td> <td>  168.716</td>\n",
       "</tr>\n",
       "<tr>\n",
       "  <th>Item_Type_Breakfast</th>             <td>    6.2646</td> <td>  116.639</td> <td>    0.054</td> <td> 0.957</td> <td> -222.375</td> <td>  234.905</td>\n",
       "</tr>\n",
       "<tr>\n",
       "  <th>Item_Type_Canned</th>                <td>   25.0127</td> <td>   62.778</td> <td>    0.398</td> <td> 0.690</td> <td>  -98.047</td> <td>  148.072</td>\n",
       "</tr>\n",
       "<tr>\n",
       "  <th>Item_Type_Dairy</th>                 <td>  -41.2815</td> <td>   62.245</td> <td>   -0.663</td> <td> 0.507</td> <td> -163.297</td> <td>   80.734</td>\n",
       "</tr>\n",
       "<tr>\n",
       "  <th>Item_Type_Frozen Foods</th>          <td>  -27.9787</td> <td>   58.888</td> <td>   -0.475</td> <td> 0.635</td> <td> -143.413</td> <td>   87.456</td>\n",
       "</tr>\n",
       "<tr>\n",
       "  <th>Item_Type_Fruits and Vegetables</th> <td>   30.4138</td> <td>   54.971</td> <td>    0.553</td> <td> 0.580</td> <td>  -77.342</td> <td>  138.170</td>\n",
       "</tr>\n",
       "<tr>\n",
       "  <th>Item_Type_Hard Drinks</th>           <td>   -2.1486</td> <td>   90.222</td> <td>   -0.024</td> <td> 0.981</td> <td> -179.007</td> <td>  174.709</td>\n",
       "</tr>\n",
       "<tr>\n",
       "  <th>Item_Type_Health and Hygiene</th>    <td>  -10.7174</td> <td>   68.021</td> <td>   -0.158</td> <td> 0.875</td> <td> -144.055</td> <td>  122.620</td>\n",
       "</tr>\n",
       "<tr>\n",
       "  <th>Item_Type_Household</th>             <td>  -39.4156</td> <td>   59.933</td> <td>   -0.658</td> <td> 0.511</td> <td> -156.900</td> <td>   78.069</td>\n",
       "</tr>\n",
       "<tr>\n",
       "  <th>Item_Type_Meat</th>                  <td>   -0.7287</td> <td>   70.668</td> <td>   -0.010</td> <td> 0.992</td> <td> -139.255</td> <td>  137.798</td>\n",
       "</tr>\n",
       "<tr>\n",
       "  <th>Item_Type_Others</th>                <td>  -21.0535</td> <td>   98.638</td> <td>   -0.213</td> <td> 0.831</td> <td> -214.408</td> <td>  172.301</td>\n",
       "</tr>\n",
       "<tr>\n",
       "  <th>Item_Type_Seafood</th>               <td>  184.3573</td> <td>  148.051</td> <td>    1.245</td> <td> 0.213</td> <td> -105.859</td> <td>  474.573</td>\n",
       "</tr>\n",
       "<tr>\n",
       "  <th>Item_Type_Snack Foods</th>           <td>  -11.3178</td> <td>   55.259</td> <td>   -0.205</td> <td> 0.838</td> <td> -119.639</td> <td>   97.004</td>\n",
       "</tr>\n",
       "<tr>\n",
       "  <th>Item_Type_Soft Drinks</th>           <td>  -27.4833</td> <td>   70.188</td> <td>   -0.392</td> <td> 0.695</td> <td> -165.069</td> <td>  110.102</td>\n",
       "</tr>\n",
       "<tr>\n",
       "  <th>Item_Type_Starchy Foods</th>         <td>   25.9385</td> <td>  103.117</td> <td>    0.252</td> <td> 0.801</td> <td> -176.195</td> <td>  228.072</td>\n",
       "</tr>\n",
       "<tr>\n",
       "  <th>Outlet_Identifier_OUT013</th>        <td> -7.34e+14</td> <td> 1.42e+15</td> <td>   -0.516</td> <td> 0.606</td> <td>-3.52e+15</td> <td> 2.06e+15</td>\n",
       "</tr>\n",
       "<tr>\n",
       "  <th>Outlet_Identifier_OUT017</th>        <td> 2.436e+14</td> <td> 4.72e+14</td> <td>    0.516</td> <td> 0.606</td> <td>-6.82e+14</td> <td> 1.17e+15</td>\n",
       "</tr>\n",
       "<tr>\n",
       "  <th>Outlet_Identifier_OUT018</th>        <td> 2.447e+14</td> <td> 4.75e+14</td> <td>    0.516</td> <td> 0.606</td> <td>-6.86e+14</td> <td> 1.17e+15</td>\n",
       "</tr>\n",
       "<tr>\n",
       "  <th>Outlet_Identifier_OUT019</th>        <td>-2.123e+14</td> <td> 4.12e+14</td> <td>   -0.516</td> <td> 0.606</td> <td>-1.02e+15</td> <td> 5.95e+14</td>\n",
       "</tr>\n",
       "<tr>\n",
       "  <th>Outlet_Identifier_OUT027</th>        <td> 4.875e+14</td> <td> 9.45e+14</td> <td>    0.516</td> <td> 0.606</td> <td>-1.37e+15</td> <td> 2.34e+15</td>\n",
       "</tr>\n",
       "<tr>\n",
       "  <th>Outlet_Identifier_OUT035</th>        <td>-5.179e+14</td> <td>    1e+15</td> <td>   -0.516</td> <td> 0.606</td> <td>-2.49e+15</td> <td> 1.45e+15</td>\n",
       "</tr>\n",
       "<tr>\n",
       "  <th>Outlet_Identifier_OUT045</th>        <td> 2.454e+14</td> <td> 4.76e+14</td> <td>    0.516</td> <td> 0.606</td> <td>-6.87e+14</td> <td> 1.18e+15</td>\n",
       "</tr>\n",
       "<tr>\n",
       "  <th>Outlet_Identifier_OUT046</th>        <td>-1.066e+14</td> <td> 2.07e+14</td> <td>   -0.516</td> <td> 0.606</td> <td>-5.12e+14</td> <td> 2.99e+14</td>\n",
       "</tr>\n",
       "<tr>\n",
       "  <th>Outlet_Identifier_OUT049</th>        <td> 6.553e+14</td> <td> 1.27e+15</td> <td>    0.516</td> <td> 0.606</td> <td>-1.84e+15</td> <td> 3.15e+15</td>\n",
       "</tr>\n",
       "<tr>\n",
       "  <th>Outlet_Establishment_Year_1987</th>  <td>-7.358e+14</td> <td> 1.43e+15</td> <td>   -0.516</td> <td> 0.606</td> <td>-3.53e+15</td> <td> 2.06e+15</td>\n",
       "</tr>\n",
       "<tr>\n",
       "  <th>Outlet_Establishment_Year_1997</th>  <td>-1.057e+14</td> <td> 2.05e+14</td> <td>   -0.516</td> <td> 0.606</td> <td>-5.07e+14</td> <td> 2.96e+14</td>\n",
       "</tr>\n",
       "<tr>\n",
       "  <th>Outlet_Establishment_Year_1998</th>  <td> 4.875e+14</td> <td> 9.45e+14</td> <td>    0.516</td> <td> 0.606</td> <td>-1.37e+15</td> <td> 2.34e+15</td>\n",
       "</tr>\n",
       "<tr>\n",
       "  <th>Outlet_Establishment_Year_1999</th>  <td> 6.568e+14</td> <td> 1.27e+15</td> <td>    0.516</td> <td> 0.606</td> <td>-1.84e+15</td> <td> 3.15e+15</td>\n",
       "</tr>\n",
       "<tr>\n",
       "  <th>Outlet_Establishment_Year_2002</th>  <td>  2.44e+14</td> <td> 4.73e+14</td> <td>    0.516</td> <td> 0.606</td> <td>-6.84e+14</td> <td> 1.17e+15</td>\n",
       "</tr>\n",
       "<tr>\n",
       "  <th>Outlet_Establishment_Year_2004</th>  <td> -5.17e+14</td> <td>    1e+15</td> <td>   -0.516</td> <td> 0.606</td> <td>-2.48e+15</td> <td> 1.45e+15</td>\n",
       "</tr>\n",
       "<tr>\n",
       "  <th>Outlet_Establishment_Year_2007</th>  <td> 2.458e+14</td> <td> 4.77e+14</td> <td>    0.516</td> <td> 0.606</td> <td>-6.89e+14</td> <td> 1.18e+15</td>\n",
       "</tr>\n",
       "<tr>\n",
       "  <th>Outlet_Establishment_Year_2009</th>  <td> 2.428e+14</td> <td> 4.71e+14</td> <td>    0.516</td> <td> 0.606</td> <td> -6.8e+14</td> <td> 1.17e+15</td>\n",
       "</tr>\n",
       "<tr>\n",
       "  <th>Outlet_Size_Medium</th>              <td>-1.957e+15</td> <td>  3.8e+15</td> <td>   -0.516</td> <td> 0.606</td> <td> -9.4e+15</td> <td> 5.48e+15</td>\n",
       "</tr>\n",
       "<tr>\n",
       "  <th>Outlet_Size_Small</th>               <td>-4.331e+14</td> <td>  8.4e+14</td> <td>   -0.516</td> <td> 0.606</td> <td>-2.08e+15</td> <td> 1.21e+15</td>\n",
       "</tr>\n",
       "<tr>\n",
       "  <th>Outlet_Location_Type_Tier 2</th>     <td> 8.227e+14</td> <td>  1.6e+15</td> <td>    0.516</td> <td> 0.606</td> <td> -2.3e+15</td> <td> 3.95e+15</td>\n",
       "</tr>\n",
       "<tr>\n",
       "  <th>Outlet_Location_Type_Tier 3</th>     <td> 8.245e+14</td> <td>  1.6e+15</td> <td>    0.516</td> <td> 0.606</td> <td>-2.31e+15</td> <td> 3.96e+15</td>\n",
       "</tr>\n",
       "</table>\n",
       "<table class=\"simpletable\">\n",
       "<tr>\n",
       "  <th>Omnibus:</th>       <td>962.082</td> <th>  Durbin-Watson:     </th> <td>   2.004</td>\n",
       "</tr>\n",
       "<tr>\n",
       "  <th>Prob(Omnibus):</th> <td> 0.000</td>  <th>  Jarque-Bera (JB):  </th> <td>2302.496</td>\n",
       "</tr>\n",
       "<tr>\n",
       "  <th>Skew:</th>          <td> 0.667</td>  <th>  Prob(JB):          </th> <td>    0.00</td>\n",
       "</tr>\n",
       "<tr>\n",
       "  <th>Kurtosis:</th>      <td> 5.169</td>  <th>  Cond. No.          </th> <td>1.31e+16</td>\n",
       "</tr>\n",
       "</table><br/><br/>Warnings:<br/>[1] Standard Errors assume that the covariance matrix of the errors is correctly specified.<br/>[2] The smallest eigenvalue is 1.24e-28. This might indicate that there are<br/>strong multicollinearity problems or that the design matrix is singular."
      ],
      "text/plain": [
       "<class 'statsmodels.iolib.summary.Summary'>\n",
       "\"\"\"\n",
       "                            OLS Regression Results                            \n",
       "==============================================================================\n",
       "Dep. Variable:      Item_Outlet_Sales   R-squared:                       0.564\n",
       "Model:                            OLS   Adj. R-squared:                  0.562\n",
       "Method:                 Least Squares   F-statistic:                     354.0\n",
       "Date:                Mon, 14 Dec 2020   Prob (F-statistic):               0.00\n",
       "Time:                        04:14:47   Log-Likelihood:                -71988.\n",
       "No. Observations:                8523   AIC:                         1.440e+05\n",
       "Df Residuals:                    8491   BIC:                         1.443e+05\n",
       "Df Model:                          31                                         \n",
       "Covariance Type:            nonrobust                                         \n",
       "===================================================================================================\n",
       "                                      coef    std err          t      P>|t|      [0.025      0.975]\n",
       "---------------------------------------------------------------------------------------------------\n",
       "const                            6.453e+14   1.25e+15      0.516      0.606   -1.81e+15     3.1e+15\n",
       "Item_Weight                        -2.7218     12.375     -0.220      0.826     -26.980      21.536\n",
       "Item_Visibility                   -15.6092     12.837     -1.216      0.224     -40.773       9.555\n",
       "Item_MRP                          969.3343     12.318     78.694      0.000     945.188     993.480\n",
       "Item_Fat_Content_Low Fat           30.9168     65.562      0.472      0.637     -97.602     159.435\n",
       "Item_Fat_Content_Regular           75.0208     68.065      1.102      0.270     -58.402     208.444\n",
       "Item_Fat_Content_low fat           78.3754    124.425      0.630      0.529    -165.528     322.279\n",
       "Item_Fat_Content_reg              -28.1479    123.021     -0.229      0.819    -269.300     213.004\n",
       "Item_Type_Breads                    3.9249     84.067      0.047      0.963    -160.867     168.716\n",
       "Item_Type_Breakfast                 6.2646    116.639      0.054      0.957    -222.375     234.905\n",
       "Item_Type_Canned                   25.0127     62.778      0.398      0.690     -98.047     148.072\n",
       "Item_Type_Dairy                   -41.2815     62.245     -0.663      0.507    -163.297      80.734\n",
       "Item_Type_Frozen Foods            -27.9787     58.888     -0.475      0.635    -143.413      87.456\n",
       "Item_Type_Fruits and Vegetables    30.4138     54.971      0.553      0.580     -77.342     138.170\n",
       "Item_Type_Hard Drinks              -2.1486     90.222     -0.024      0.981    -179.007     174.709\n",
       "Item_Type_Health and Hygiene      -10.7174     68.021     -0.158      0.875    -144.055     122.620\n",
       "Item_Type_Household               -39.4156     59.933     -0.658      0.511    -156.900      78.069\n",
       "Item_Type_Meat                     -0.7287     70.668     -0.010      0.992    -139.255     137.798\n",
       "Item_Type_Others                  -21.0535     98.638     -0.213      0.831    -214.408     172.301\n",
       "Item_Type_Seafood                 184.3573    148.051      1.245      0.213    -105.859     474.573\n",
       "Item_Type_Snack Foods             -11.3178     55.259     -0.205      0.838    -119.639      97.004\n",
       "Item_Type_Soft Drinks             -27.4833     70.188     -0.392      0.695    -165.069     110.102\n",
       "Item_Type_Starchy Foods            25.9385    103.117      0.252      0.801    -176.195     228.072\n",
       "Outlet_Identifier_OUT013         -7.34e+14   1.42e+15     -0.516      0.606   -3.52e+15    2.06e+15\n",
       "Outlet_Identifier_OUT017         2.436e+14   4.72e+14      0.516      0.606   -6.82e+14    1.17e+15\n",
       "Outlet_Identifier_OUT018         2.447e+14   4.75e+14      0.516      0.606   -6.86e+14    1.17e+15\n",
       "Outlet_Identifier_OUT019        -2.123e+14   4.12e+14     -0.516      0.606   -1.02e+15    5.95e+14\n",
       "Outlet_Identifier_OUT027         4.875e+14   9.45e+14      0.516      0.606   -1.37e+15    2.34e+15\n",
       "Outlet_Identifier_OUT035        -5.179e+14      1e+15     -0.516      0.606   -2.49e+15    1.45e+15\n",
       "Outlet_Identifier_OUT045         2.454e+14   4.76e+14      0.516      0.606   -6.87e+14    1.18e+15\n",
       "Outlet_Identifier_OUT046        -1.066e+14   2.07e+14     -0.516      0.606   -5.12e+14    2.99e+14\n",
       "Outlet_Identifier_OUT049         6.553e+14   1.27e+15      0.516      0.606   -1.84e+15    3.15e+15\n",
       "Outlet_Establishment_Year_1987  -7.358e+14   1.43e+15     -0.516      0.606   -3.53e+15    2.06e+15\n",
       "Outlet_Establishment_Year_1997  -1.057e+14   2.05e+14     -0.516      0.606   -5.07e+14    2.96e+14\n",
       "Outlet_Establishment_Year_1998   4.875e+14   9.45e+14      0.516      0.606   -1.37e+15    2.34e+15\n",
       "Outlet_Establishment_Year_1999   6.568e+14   1.27e+15      0.516      0.606   -1.84e+15    3.15e+15\n",
       "Outlet_Establishment_Year_2002    2.44e+14   4.73e+14      0.516      0.606   -6.84e+14    1.17e+15\n",
       "Outlet_Establishment_Year_2004   -5.17e+14      1e+15     -0.516      0.606   -2.48e+15    1.45e+15\n",
       "Outlet_Establishment_Year_2007   2.458e+14   4.77e+14      0.516      0.606   -6.89e+14    1.18e+15\n",
       "Outlet_Establishment_Year_2009   2.428e+14   4.71e+14      0.516      0.606    -6.8e+14    1.17e+15\n",
       "Outlet_Size_Medium              -1.957e+15    3.8e+15     -0.516      0.606    -9.4e+15    5.48e+15\n",
       "Outlet_Size_Small               -4.331e+14    8.4e+14     -0.516      0.606   -2.08e+15    1.21e+15\n",
       "Outlet_Location_Type_Tier 2      8.227e+14    1.6e+15      0.516      0.606    -2.3e+15    3.95e+15\n",
       "Outlet_Location_Type_Tier 3      8.245e+14    1.6e+15      0.516      0.606   -2.31e+15    3.96e+15\n",
       "==============================================================================\n",
       "Omnibus:                      962.082   Durbin-Watson:                   2.004\n",
       "Prob(Omnibus):                  0.000   Jarque-Bera (JB):             2302.496\n",
       "Skew:                           0.667   Prob(JB):                         0.00\n",
       "Kurtosis:                       5.169   Cond. No.                     1.31e+16\n",
       "==============================================================================\n",
       "\n",
       "Warnings:\n",
       "[1] Standard Errors assume that the covariance matrix of the errors is correctly specified.\n",
       "[2] The smallest eigenvalue is 1.24e-28. This might indicate that there are\n",
       "strong multicollinearity problems or that the design matrix is singular.\n",
       "\"\"\""
      ]
     },
     "execution_count": 11,
     "metadata": {
      "tags": []
     },
     "output_type": "execute_result"
    }
   ],
   "source": [
    "import statsmodels.api as sm\n",
    "xc=sm.add_constant(df_fin)\n",
    "model=sm.OLS(Y,xc).fit()\n",
    "model.summary()"
   ]
  },
  {
   "cell_type": "code",
   "execution_count": 12,
   "metadata": {
    "id": "9CefQElJVlIk"
   },
   "outputs": [],
   "source": [
    "inp=df_fin.copy()\n",
    "## Creating a copy of the input/independent variable so that drop can not affect the inputs for further model building."
   ]
  },
  {
   "cell_type": "markdown",
   "metadata": {
    "id": "jVcWREhG0VDx"
   },
   "source": [
    "## Applying backward elimination and choosing only those columns which satisfy the statistical condition of having p-value <0.05."
   ]
  },
  {
   "cell_type": "code",
   "execution_count": 13,
   "metadata": {
    "colab": {
     "base_uri": "https://localhost:8080/"
    },
    "id": "s-bPBGfoU1Yu",
    "outputId": "420bda72-a457-465e-d21a-4b08e53980b3"
   },
   "outputs": [
    {
     "name": "stdout",
     "output_type": "stream",
     "text": [
      "The final Features are: Index(['Item_MRP', 'Item_Fat_Content_Regular', 'Outlet_Identifier_OUT017',\n",
      "       'Outlet_Identifier_OUT018', 'Outlet_Identifier_OUT027',\n",
      "       'Outlet_Identifier_OUT035', 'Outlet_Identifier_OUT045',\n",
      "       'Outlet_Identifier_OUT046', 'Outlet_Establishment_Year_2002',\n",
      "       'Outlet_Establishment_Year_2004', 'Outlet_Establishment_Year_2007',\n",
      "       'Outlet_Establishment_Year_2009', 'Outlet_Size_Medium',\n",
      "       'Outlet_Size_Small', 'Outlet_Location_Type_Tier 2',\n",
      "       'Outlet_Location_Type_Tier 3'],\n",
      "      dtype='object')\n"
     ]
    }
   ],
   "source": [
    "while(len(inp.columns)>0):\n",
    "  inpc=sm.add_constant(inp)\n",
    "  ols=sm.OLS(Y,inpc)\n",
    "  ols_mod=ols.fit()\n",
    "  f=ols_mod.pvalues[1:].idxmax()\n",
    "  if ols_mod.pvalues[1:].max()>0.05:\n",
    "    inp=inp.drop(f,axis=1)\n",
    "  else:\n",
    "    break\n",
    "print('The final Features are:',inp.columns)"
   ]
  },
  {
   "cell_type": "code",
   "execution_count": 14,
   "metadata": {
    "colab": {
     "base_uri": "https://localhost:8080/",
     "height": 793
    },
    "id": "uRPpgoy8V8lo",
    "outputId": "30494e58-311d-475e-deb9-bb42b7aed7ea"
   },
   "outputs": [
    {
     "data": {
      "text/html": [
       "<table class=\"simpletable\">\n",
       "<caption>OLS Regression Results</caption>\n",
       "<tr>\n",
       "  <th>Dep. Variable:</th>    <td>Item_Outlet_Sales</td> <th>  R-squared:         </th> <td>   0.563</td> \n",
       "</tr>\n",
       "<tr>\n",
       "  <th>Model:</th>                   <td>OLS</td>        <th>  Adj. R-squared:    </th> <td>   0.563</td> \n",
       "</tr>\n",
       "<tr>\n",
       "  <th>Method:</th>             <td>Least Squares</td>   <th>  F-statistic:       </th> <td>   998.6</td> \n",
       "</tr>\n",
       "<tr>\n",
       "  <th>Date:</th>             <td>Mon, 14 Dec 2020</td>  <th>  Prob (F-statistic):</th>  <td>  0.00</td>  \n",
       "</tr>\n",
       "<tr>\n",
       "  <th>Time:</th>                 <td>04:15:04</td>      <th>  Log-Likelihood:    </th> <td> -71991.</td> \n",
       "</tr>\n",
       "<tr>\n",
       "  <th>No. Observations:</th>      <td>  8523</td>       <th>  AIC:               </th> <td>1.440e+05</td>\n",
       "</tr>\n",
       "<tr>\n",
       "  <th>Df Residuals:</th>          <td>  8511</td>       <th>  BIC:               </th> <td>1.441e+05</td>\n",
       "</tr>\n",
       "<tr>\n",
       "  <th>Df Model:</th>              <td>    11</td>       <th>                     </th>     <td> </td>    \n",
       "</tr>\n",
       "<tr>\n",
       "  <th>Covariance Type:</th>      <td>nonrobust</td>     <th>                     </th>     <td> </td>    \n",
       "</tr>\n",
       "</table>\n",
       "<table class=\"simpletable\">\n",
       "<tr>\n",
       "                 <td></td>                   <th>coef</th>     <th>std err</th>      <th>t</th>      <th>P>|t|</th>  <th>[0.025</th>    <th>0.975]</th>  \n",
       "</tr>\n",
       "<tr>\n",
       "  <th>const</th>                          <td> 4289.9486</td> <td>   71.447</td> <td>   60.044</td> <td> 0.000</td> <td> 4149.895</td> <td> 4430.002</td>\n",
       "</tr>\n",
       "<tr>\n",
       "  <th>Item_MRP</th>                       <td>  968.7893</td> <td>   12.224</td> <td>   79.256</td> <td> 0.000</td> <td>  944.828</td> <td>  992.750</td>\n",
       "</tr>\n",
       "<tr>\n",
       "  <th>Item_Fat_Content_Regular</th>       <td>   55.4381</td> <td>   25.820</td> <td>    2.147</td> <td> 0.032</td> <td>    4.825</td> <td>  106.051</td>\n",
       "</tr>\n",
       "<tr>\n",
       "  <th>Outlet_Identifier_OUT017</th>       <td> -185.7497</td> <td>   19.866</td> <td>   -9.350</td> <td> 0.000</td> <td> -224.692</td> <td> -146.807</td>\n",
       "</tr>\n",
       "<tr>\n",
       "  <th>Outlet_Identifier_OUT018</th>       <td>  821.0848</td> <td>   30.271</td> <td>   27.124</td> <td> 0.000</td> <td>  761.746</td> <td>  880.423</td>\n",
       "</tr>\n",
       "<tr>\n",
       "  <th>Outlet_Identifier_OUT027</th>       <td> 3369.3365</td> <td>   60.458</td> <td>   55.730</td> <td> 0.000</td> <td> 3250.824</td> <td> 3487.849</td>\n",
       "</tr>\n",
       "<tr>\n",
       "  <th>Outlet_Identifier_OUT035</th>       <td>  834.5861</td> <td>   26.211</td> <td>   31.841</td> <td> 0.000</td> <td>  783.206</td> <td>  885.966</td>\n",
       "</tr>\n",
       "<tr>\n",
       "  <th>Outlet_Identifier_OUT045</th>       <td> -271.5203</td> <td>   19.849</td> <td>  -13.679</td> <td> 0.000</td> <td> -310.429</td> <td> -232.612</td>\n",
       "</tr>\n",
       "<tr>\n",
       "  <th>Outlet_Identifier_OUT046</th>       <td> 1901.7032</td> <td>   61.481</td> <td>   30.932</td> <td> 0.000</td> <td> 1781.186</td> <td> 2022.221</td>\n",
       "</tr>\n",
       "<tr>\n",
       "  <th>Outlet_Establishment_Year_2002</th> <td> -271.5203</td> <td>   19.849</td> <td>  -13.679</td> <td> 0.000</td> <td> -310.429</td> <td> -232.612</td>\n",
       "</tr>\n",
       "<tr>\n",
       "  <th>Outlet_Establishment_Year_2004</th> <td>  834.5861</td> <td>   26.211</td> <td>   31.841</td> <td> 0.000</td> <td>  783.206</td> <td>  885.966</td>\n",
       "</tr>\n",
       "<tr>\n",
       "  <th>Outlet_Establishment_Year_2007</th> <td> -185.7497</td> <td>   19.866</td> <td>   -9.350</td> <td> 0.000</td> <td> -224.692</td> <td> -146.807</td>\n",
       "</tr>\n",
       "<tr>\n",
       "  <th>Outlet_Establishment_Year_2009</th> <td>  821.0848</td> <td>   30.271</td> <td>   27.124</td> <td> 0.000</td> <td>  761.746</td> <td>  880.423</td>\n",
       "</tr>\n",
       "<tr>\n",
       "  <th>Outlet_Size_Medium</th>             <td>-1949.6173</td> <td>   60.493</td> <td>  -32.229</td> <td> 0.000</td> <td>-2068.199</td> <td>-1831.035</td>\n",
       "</tr>\n",
       "<tr>\n",
       "  <th>Outlet_Size_Small</th>              <td>-3949.4457</td> <td>   86.251</td> <td>  -45.790</td> <td> 0.000</td> <td>-4118.518</td> <td>-3780.374</td>\n",
       "</tr>\n",
       "<tr>\n",
       "  <th>Outlet_Location_Type_Tier 2</th>    <td>  377.3161</td> <td>   21.909</td> <td>   17.222</td> <td> 0.000</td> <td>  334.369</td> <td>  420.263</td>\n",
       "</tr>\n",
       "<tr>\n",
       "  <th>Outlet_Location_Type_Tier 3</th>    <td>-2016.3111</td> <td>   60.518</td> <td>  -33.318</td> <td> 0.000</td> <td>-2134.940</td> <td>-1897.682</td>\n",
       "</tr>\n",
       "</table>\n",
       "<table class=\"simpletable\">\n",
       "<tr>\n",
       "  <th>Omnibus:</th>       <td>966.766</td> <th>  Durbin-Watson:     </th> <td>   2.003</td>\n",
       "</tr>\n",
       "<tr>\n",
       "  <th>Prob(Omnibus):</th> <td> 0.000</td>  <th>  Jarque-Bera (JB):  </th> <td>2315.043</td>\n",
       "</tr>\n",
       "<tr>\n",
       "  <th>Skew:</th>          <td> 0.670</td>  <th>  Prob(JB):          </th> <td>    0.00</td>\n",
       "</tr>\n",
       "<tr>\n",
       "  <th>Kurtosis:</th>      <td> 5.174</td>  <th>  Cond. No.          </th> <td>1.01e+17</td>\n",
       "</tr>\n",
       "</table><br/><br/>Warnings:<br/>[1] Standard Errors assume that the covariance matrix of the errors is correctly specified.<br/>[2] The smallest eigenvalue is 1.71e-30. This might indicate that there are<br/>strong multicollinearity problems or that the design matrix is singular."
      ],
      "text/plain": [
       "<class 'statsmodels.iolib.summary.Summary'>\n",
       "\"\"\"\n",
       "                            OLS Regression Results                            \n",
       "==============================================================================\n",
       "Dep. Variable:      Item_Outlet_Sales   R-squared:                       0.563\n",
       "Model:                            OLS   Adj. R-squared:                  0.563\n",
       "Method:                 Least Squares   F-statistic:                     998.6\n",
       "Date:                Mon, 14 Dec 2020   Prob (F-statistic):               0.00\n",
       "Time:                        04:15:04   Log-Likelihood:                -71991.\n",
       "No. Observations:                8523   AIC:                         1.440e+05\n",
       "Df Residuals:                    8511   BIC:                         1.441e+05\n",
       "Df Model:                          11                                         \n",
       "Covariance Type:            nonrobust                                         \n",
       "==================================================================================================\n",
       "                                     coef    std err          t      P>|t|      [0.025      0.975]\n",
       "--------------------------------------------------------------------------------------------------\n",
       "const                           4289.9486     71.447     60.044      0.000    4149.895    4430.002\n",
       "Item_MRP                         968.7893     12.224     79.256      0.000     944.828     992.750\n",
       "Item_Fat_Content_Regular          55.4381     25.820      2.147      0.032       4.825     106.051\n",
       "Outlet_Identifier_OUT017        -185.7497     19.866     -9.350      0.000    -224.692    -146.807\n",
       "Outlet_Identifier_OUT018         821.0848     30.271     27.124      0.000     761.746     880.423\n",
       "Outlet_Identifier_OUT027        3369.3365     60.458     55.730      0.000    3250.824    3487.849\n",
       "Outlet_Identifier_OUT035         834.5861     26.211     31.841      0.000     783.206     885.966\n",
       "Outlet_Identifier_OUT045        -271.5203     19.849    -13.679      0.000    -310.429    -232.612\n",
       "Outlet_Identifier_OUT046        1901.7032     61.481     30.932      0.000    1781.186    2022.221\n",
       "Outlet_Establishment_Year_2002  -271.5203     19.849    -13.679      0.000    -310.429    -232.612\n",
       "Outlet_Establishment_Year_2004   834.5861     26.211     31.841      0.000     783.206     885.966\n",
       "Outlet_Establishment_Year_2007  -185.7497     19.866     -9.350      0.000    -224.692    -146.807\n",
       "Outlet_Establishment_Year_2009   821.0848     30.271     27.124      0.000     761.746     880.423\n",
       "Outlet_Size_Medium             -1949.6173     60.493    -32.229      0.000   -2068.199   -1831.035\n",
       "Outlet_Size_Small              -3949.4457     86.251    -45.790      0.000   -4118.518   -3780.374\n",
       "Outlet_Location_Type_Tier 2      377.3161     21.909     17.222      0.000     334.369     420.263\n",
       "Outlet_Location_Type_Tier 3    -2016.3111     60.518    -33.318      0.000   -2134.940   -1897.682\n",
       "==============================================================================\n",
       "Omnibus:                      966.766   Durbin-Watson:                   2.003\n",
       "Prob(Omnibus):                  0.000   Jarque-Bera (JB):             2315.043\n",
       "Skew:                           0.670   Prob(JB):                         0.00\n",
       "Kurtosis:                       5.174   Cond. No.                     1.01e+17\n",
       "==============================================================================\n",
       "\n",
       "Warnings:\n",
       "[1] Standard Errors assume that the covariance matrix of the errors is correctly specified.\n",
       "[2] The smallest eigenvalue is 1.71e-30. This might indicate that there are\n",
       "strong multicollinearity problems or that the design matrix is singular.\n",
       "\"\"\""
      ]
     },
     "execution_count": 14,
     "metadata": {
      "tags": []
     },
     "output_type": "execute_result"
    }
   ],
   "source": [
    "ols_mod.summary()\n",
    "## Look at the model performance after all the steps."
   ]
  },
  {
   "cell_type": "code",
   "execution_count": null,
   "metadata": {
    "colab": {
     "base_uri": "https://localhost:8080/"
    },
    "id": "p6vvrjkYWhej",
    "outputId": "2c231065-057e-42a8-a61e-a24fce7b5cd2"
   },
   "outputs": [
    {
     "data": {
      "text/plain": [
       "(8523, 43)"
      ]
     },
     "execution_count": 25,
     "metadata": {
      "tags": []
     },
     "output_type": "execute_result"
    }
   ],
   "source": [
    "df_fin.shape"
   ]
  },
  {
   "cell_type": "markdown",
   "metadata": {
    "id": "H5v5Y2tr0ohv"
   },
   "source": [
    "## Going forward with the k-fold and cross val score to test and compare different models performance linear and non-linear both.\n",
    "## The random state is defined to 0 with n_splits of 5 according to the basic instincts.\n",
    "## Neg-mean_squared_error is considered as the scoring defining metrics which calculates the mean squred error(MSE). \n",
    "## This error is then computed into root mean squared error(RMSE) which defines the Bias Error for this model.\n",
    "## Similarly with the help of MSE and RMSE standard deviation is calculated.\n",
    "## bias error is the amount that a model's prediction differs from the target value, compared to the training data with the standard deviation, therefore a range is defined with these terms.\n",
    "## So in general terms it can be said that our model will perform with an bias error of be and with the range of error as be+ve and be-ve."
   ]
  },
  {
   "cell_type": "code",
   "execution_count": 15,
   "metadata": {
    "colab": {
     "base_uri": "https://localhost:8080/"
    },
    "id": "8SZOc3IkWVj7",
    "outputId": "b0539e98-82f2-40aa-fede-ac058b12ef9c"
   },
   "outputs": [
    {
     "data": {
      "text/plain": [
       "array([-1275131.69618544, -1389787.58486204, -1243193.41821268,\n",
       "       -1188287.52272223, -1275338.09212636])"
      ]
     },
     "execution_count": 15,
     "metadata": {
      "tags": []
     },
     "output_type": "execute_result"
    }
   ],
   "source": [
    "from sklearn.model_selection import cross_val_score,KFold\n",
    "from sklearn.linear_model import LinearRegression\n",
    "kf=KFold(shuffle=True,n_splits=5,random_state=0)\n",
    "lr=LinearRegression()\n",
    "score=cross_val_score(lr,inp,Y,cv=kf,scoring='neg_mean_squared_error')\n",
    "score"
   ]
  },
  {
   "cell_type": "markdown",
   "metadata": {
    "id": "GISlTGwu2vuw"
   },
   "source": [
    "## This is a linear model, so the above method columns removal is used in prediction"
   ]
  },
  {
   "cell_type": "markdown",
   "metadata": {
    "id": "BQv82TeU2-BL"
   },
   "source": [
    "## Moving ahead with the non linear models and going with the independent variables without backward elimination."
   ]
  },
  {
   "cell_type": "code",
   "execution_count": 16,
   "metadata": {
    "colab": {
     "base_uri": "https://localhost:8080/"
    },
    "id": "CT6uvOw8aSO-",
    "outputId": "41be5ee0-b2d1-4fa5-e1c3-4630935ec9d1"
   },
   "outputs": [
    {
     "data": {
      "text/plain": [
       "(1128.4980702130324, 32.39923508379755)"
      ]
     },
     "execution_count": 16,
     "metadata": {
      "tags": []
     },
     "output_type": "execute_result"
    }
   ],
   "source": [
    "import numpy as np\n",
    "rmse=np.sqrt(np.abs(score))\n",
    "be=np.mean(rmse)\n",
    "ve=np.std(rmse,ddof=1)\n",
    "be,ve"
   ]
  },
  {
   "cell_type": "markdown",
   "metadata": {
    "id": "I6oTjH2V3Ror"
   },
   "source": [
    "## GridSearchCV is used for parameter tuning where low bias error is the priority."
   ]
  },
  {
   "cell_type": "code",
   "execution_count": null,
   "metadata": {
    "id": "gYVrBfn_iaYj"
   },
   "outputs": [],
   "source": [
    "from sklearn.model_selection import GridSearchCV"
   ]
  },
  {
   "cell_type": "code",
   "execution_count": null,
   "metadata": {
    "colab": {
     "base_uri": "https://localhost:8080/"
    },
    "id": "vkefobD0jme7",
    "outputId": "d99cdfe9-3987-44cc-fa02-415c05428d6a"
   },
   "outputs": [
    {
     "data": {
      "text/plain": [
       "{'n_neighbors': 47, 'weights': 'distance'}"
      ]
     },
     "execution_count": 81,
     "metadata": {
      "tags": []
     },
     "output_type": "execute_result"
    }
   ],
   "source": [
    "from sklearn.model_selection import GridSearchCV\n",
    "from sklearn.neighbors import KNeighborsRegressor\n",
    "knn=KNeighborsRegressor()\n",
    "param={'n_neighbors':np.arange(1,100),'weights':['uniform','distance']}\n",
    "GS=GridSearchCV(knn,param,cv=kf,scoring='neg_mean_squared_error')\n",
    "GS.fit(df_fin,Y)\n",
    "GS.best_params_"
   ]
  },
  {
   "cell_type": "markdown",
   "metadata": {
    "id": "A3jIPzkl3duZ"
   },
   "source": [
    "## KNearestNeighbour Model Building"
   ]
  },
  {
   "cell_type": "code",
   "execution_count": 17,
   "metadata": {
    "colab": {
     "base_uri": "https://localhost:8080/"
    },
    "id": "9LEHkmHKLUaI",
    "outputId": "39c067c9-2136-4d0d-cd13-1011949ed4ce"
   },
   "outputs": [
    {
     "data": {
      "text/plain": [
       "(1122.3138599606598, 32.95356244145802)"
      ]
     },
     "execution_count": 17,
     "metadata": {
      "tags": []
     },
     "output_type": "execute_result"
    }
   ],
   "source": [
    "from sklearn.neighbors import KNeighborsRegressor\n",
    "knn=KNeighborsRegressor(n_neighbors= 47, weights='distance')\n",
    "score=cross_val_score(knn,df_fin,Y,cv=kf,scoring='neg_mean_squared_error')\n",
    "rmse=np.sqrt(np.abs(score))\n",
    "be=np.mean(rmse)\n",
    "ve=np.std(rmse,ddof=1)\n",
    "be,ve"
   ]
  },
  {
   "cell_type": "markdown",
   "metadata": {
    "id": "v9st4Nna3l8j"
   },
   "source": [
    "## Decision Tree Model Building"
   ]
  },
  {
   "cell_type": "code",
   "execution_count": null,
   "metadata": {
    "colab": {
     "base_uri": "https://localhost:8080/"
    },
    "id": "TTKogCCRFCQp",
    "outputId": "959d889d-f70d-4b16-cdae-839d630945e9"
   },
   "outputs": [
    {
     "data": {
      "text/plain": [
       "{'criterion': 'mse', 'max_depth': 6}"
      ]
     },
     "execution_count": 37,
     "metadata": {
      "tags": []
     },
     "output_type": "execute_result"
    }
   ],
   "source": [
    "from sklearn.tree import DecisionTreeRegressor\n",
    "dt=DecisionTreeRegressor(random_state=0)\n",
    "param={'max_depth':np.arange(1,15),'criterion':['mse']}\n",
    "gs=GridSearchCV(dt,param,cv=kf,scoring='neg_mean_squared_error')\n",
    "gs.fit(df_fin,Y)\n",
    "gs.best_params_"
   ]
  },
  {
   "cell_type": "code",
   "execution_count": 18,
   "metadata": {
    "colab": {
     "base_uri": "https://localhost:8080/"
    },
    "id": "rLcPaHUqGWuC",
    "outputId": "bafbdc39-d44f-44bf-a688-cda6110a551b"
   },
   "outputs": [
    {
     "data": {
      "text/plain": [
       "(1099.6641576164056, 28.95942982999934)"
      ]
     },
     "execution_count": 18,
     "metadata": {
      "tags": []
     },
     "output_type": "execute_result"
    }
   ],
   "source": [
    "from sklearn.tree import DecisionTreeRegressor\n",
    "dt=DecisionTreeRegressor(max_depth=6,criterion='mse',random_state=0)\n",
    "score=cross_val_score(dt,df_fin,Y,cv=kf,scoring='neg_mean_squared_error')\n",
    "rmse=np.sqrt(np.abs(score))\n",
    "be=np.mean(rmse)\n",
    "ve=np.std(rmse,ddof=1)\n",
    "be,ve"
   ]
  },
  {
   "cell_type": "markdown",
   "metadata": {
    "id": "EkG-TzyH3qXw"
   },
   "source": [
    "## Random Forest Model Building\n",
    "### Here customised loop is applied so that least variance error can be found out."
   ]
  },
  {
   "cell_type": "code",
   "execution_count": null,
   "metadata": {
    "id": "Nc4wNIeSokMk"
   },
   "outputs": [],
   "source": [
    "from sklearn.ensemble import RandomForestRegressor\n",
    "rf_ve=[]\n",
    "rf_be=[]\n",
    "for i in np.arange(1,100):\n",
    "  rf=RandomForestRegressor(n_estimators=i,criterion='mse',random_state=0)\n",
    "  score=cross_val_score(rf,df_fin,Y,cv=kf,scoring='neg_mean_squared_error')\n",
    "  rmse=np.sqrt(np.abs(score))\n",
    "  rf_be.append(np.mean(rmse))\n",
    "  rf_ve.append(np.std(rmse,ddof=1))"
   ]
  },
  {
   "cell_type": "code",
   "execution_count": null,
   "metadata": {
    "colab": {
     "base_uri": "https://localhost:8080/"
    },
    "id": "6QHNELUWpaWm",
    "outputId": "cd13bb4d-f908-4d13-a43b-0e2dab361a9c"
   },
   "outputs": [
    {
     "data": {
      "text/plain": [
       "(16.112106219735534, 11, 1159.3736679926888)"
      ]
     },
     "execution_count": 40,
     "metadata": {
      "tags": []
     },
     "output_type": "execute_result"
    }
   ],
   "source": [
    "np.min(rf_ve),np.argmin(rf_ve),rf_be[11]"
   ]
  },
  {
   "cell_type": "code",
   "execution_count": null,
   "metadata": {
    "colab": {
     "base_uri": "https://localhost:8080/",
     "height": 282
    },
    "id": "OS058ll8rTqe",
    "outputId": "19e82a85-fb0f-4449-815e-3febbcc0ed83"
   },
   "outputs": [
    {
     "data": {
      "text/plain": [
       "[<matplotlib.lines.Line2D at 0x7fa228a72ef0>]"
      ]
     },
     "execution_count": 41,
     "metadata": {
      "tags": []
     },
     "output_type": "execute_result"
    },
    {
     "data": {
      "image/png": "[encoded data removed]",
      "text/plain": [
       "<Figure size 432x288 with 1 Axes>"
      ]
     },
     "metadata": {
      "needs_background": "light",
      "tags": []
     },
     "output_type": "display_data"
    }
   ],
   "source": [
    "plt.plot(np.arange(len(rf_ve)),rf_ve)"
   ]
  },
  {
   "cell_type": "code",
   "execution_count": 19,
   "metadata": {
    "colab": {
     "base_uri": "https://localhost:8080/"
    },
    "id": "fPX4oTyuCA8p",
    "outputId": "e54a06c9-76bd-4f85-f6bb-7c07dbd7a0f2"
   },
   "outputs": [
    {
     "data": {
      "text/plain": [
       "(1159.3736679926888, 16.112106219735534)"
      ]
     },
     "execution_count": 19,
     "metadata": {
      "tags": []
     },
     "output_type": "execute_result"
    }
   ],
   "source": [
    "from sklearn.ensemble import RandomForestRegressor\n",
    "rf=RandomForestRegressor(n_estimators=12,criterion='mse',random_state=0)\n",
    "score=cross_val_score(rf,df_fin,Y,cv=kf,scoring='neg_mean_squared_error')\n",
    "rmse=np.sqrt(np.abs(score))\n",
    "be=np.mean(rmse)\n",
    "ve=np.std(rmse,ddof=1)\n",
    "be,ve"
   ]
  },
  {
   "cell_type": "markdown",
   "metadata": {
    "id": "wZGr03Lu32bE"
   },
   "source": [
    "## Bagging Model Building\n",
    "#### Base estimator is considered as Decision tree in this."
   ]
  },
  {
   "cell_type": "code",
   "execution_count": null,
   "metadata": {
    "id": "gFllLlueC_qJ"
   },
   "outputs": [],
   "source": [
    "from sklearn.ensemble import BaggingRegressor\n",
    "br_be=[]\n",
    "br_ve=[]\n",
    "for n in np.arange(1,100):\n",
    "  br=BaggingRegressor(base_estimator=dt,n_estimators=n,random_state=0)\n",
    "  score=cross_val_score(br,df_fin,Y,cv=kf,scoring='neg_mean_squared_error')\n",
    "  rmse=np.sqrt(np.abs(score))\n",
    "  br_be.append(np.mean(rmse))\n",
    "  br_ve.append(np.std(rmse,ddof=1))"
   ]
  },
  {
   "cell_type": "code",
   "execution_count": null,
   "metadata": {
    "colab": {
     "base_uri": "https://localhost:8080/"
    },
    "id": "Ce5orgo91eUI",
    "outputId": "d4319a1e-b97c-4b60-90cb-4399d9b72cc1"
   },
   "outputs": [
    {
     "data": {
      "text/plain": [
       "(23.275135362927667, 3, 1085.062946345257)"
      ]
     },
     "execution_count": 44,
     "metadata": {
      "tags": []
     },
     "output_type": "execute_result"
    }
   ],
   "source": [
    "np.min(br_ve),np.argmin(br_ve),br_be[14]"
   ]
  },
  {
   "cell_type": "code",
   "execution_count": 20,
   "metadata": {
    "id": "Aq6JBKkrAvb9"
   },
   "outputs": [],
   "source": [
    "from sklearn.ensemble import BaggingRegressor\n",
    "from sklearn.ensemble import AdaBoostRegressor\n",
    "from sklearn.ensemble import GradientBoostingRegressor"
   ]
  },
  {
   "cell_type": "markdown",
   "metadata": {
    "id": "cHjSmjUr4D6X"
   },
   "source": [
    "## AdaBoost Model Building"
   ]
  },
  {
   "cell_type": "code",
   "execution_count": null,
   "metadata": {
    "id": "xU3LlWsL3h-o"
   },
   "outputs": [],
   "source": [
    "from sklearn.ensemble import AdaBoostRegressor\n",
    "ada=AdaBoostRegressor(random_state=0)\n",
    "adr_be=[]\n",
    "adr_ve=[]\n",
    "for n in np.arange(1,100):\n",
    "  adr=AdaBoostRegressor(n_estimators=n,random_state=0)\n",
    "  score=cross_val_score(adr,df_fin,Y,cv=kf,scoring='neg_mean_squared_error')\n",
    "  rmse=np.sqrt(np.abs(score))\n",
    "  adr_be.append(np.mean(rmse))\n",
    "  adr_ve.append(np.std(rmse,ddof=1))"
   ]
  },
  {
   "cell_type": "code",
   "execution_count": null,
   "metadata": {
    "colab": {
     "base_uri": "https://localhost:8080/"
    },
    "id": "TkDxDAFa7TKL",
    "outputId": "4418027a-7066-41be-fa17-5c92db5dcf4c"
   },
   "outputs": [
    {
     "data": {
      "text/plain": [
       "(1200.697759904431, 3, 16.1363674100675)"
      ]
     },
     "execution_count": 46,
     "metadata": {
      "tags": []
     },
     "output_type": "execute_result"
    }
   ],
   "source": [
    "np.min(adr_be),np.argmin(adr_be),adr_ve[2]"
   ]
  },
  {
   "cell_type": "markdown",
   "metadata": {
    "id": "ExB7mo6b4H74"
   },
   "source": [
    "## Gradient Boost Model Building"
   ]
  },
  {
   "cell_type": "code",
   "execution_count": null,
   "metadata": {
    "id": "1x7QGxbotUZR"
   },
   "outputs": [],
   "source": [
    "kf=KFold(shuffle=True,n_splits=5,random_state=0)\n",
    "from sklearn.ensemble import GradientBoostingRegressor\n",
    "ada=GradientBoostingRegressor(random_state=0)\n",
    "gb_be=[]\n",
    "gb_ve=[]\n",
    "for n in np.arange(1,100):\n",
    "  gb=GradientBoostingRegressor(n_estimators=n,random_state=0)\n",
    "  score=cross_val_score(gb,df_fin,Y,cv=kf,scoring='neg_mean_squared_error')\n",
    "  rmse=np.sqrt(np.abs(score))\n",
    "  gb_be.append(np.mean(rmse))\n",
    "  gb_ve.append(np.std(rmse,ddof=1))"
   ]
  },
  {
   "cell_type": "code",
   "execution_count": null,
   "metadata": {
    "colab": {
     "base_uri": "https://localhost:8080/"
    },
    "id": "hlFpcpwa12S9",
    "outputId": "2f8603fb-60b5-49e9-a41a-fc215c7e2050"
   },
   "outputs": [
    {
     "data": {
      "text/plain": [
       "(1079.5397388920383, 62, 30.27236057894313)"
      ]
     },
     "execution_count": 58,
     "metadata": {
      "tags": []
     },
     "output_type": "execute_result"
    }
   ],
   "source": [
    "np.min(gb_be),np.argmin(gb_be),gb_ve[62]"
   ]
  },
  {
   "cell_type": "code",
   "execution_count": null,
   "metadata": {
    "id": "bm2NB33G2LN2"
   },
   "outputs": [],
   "source": [
    "import numpy as np\n",
    "para={\"learning_rate\"     : [0.05, 0.10, 0.15, 0.20, 0.25, 0.30 ] ,\n",
    "       \"max_depth\"        : [ 3, 4, 5, 6, 8, 10, 12, 15], \n",
    "       'n_estimators'     :np.arange(1,100),\n",
    "       'alpha'            : np.arange(0,1,0.01),\n",
    "       'max_leaf_nodes'   : np.arange(1,50)}"
   ]
  },
  {
   "cell_type": "markdown",
   "metadata": {
    "id": "c4d8R4V24N03"
   },
   "source": [
    "## Gradient Boost with Hyperparameter Tuning Model"
   ]
  },
  {
   "cell_type": "code",
   "execution_count": null,
   "metadata": {
    "id": "9mVZv0Jr2kf1"
   },
   "outputs": [],
   "source": [
    "from sklearn.ensemble import GradientBoostingRegressor\n",
    "ada=GradientBoostingRegressor(random_state=0)\n",
    "gs=GridSearchCV(ada,para,cv=kf,scoring='neg_mean_squared_error')\n",
    "gs.fit(df_fin,Y)\n",
    "gs.best_params_"
   ]
  },
  {
   "cell_type": "code",
   "execution_count": 21,
   "metadata": {
    "colab": {
     "base_uri": "https://localhost:8080/"
    },
    "id": "9PSOHMjc806u",
    "outputId": "02fcbb9d-2b47-40b3-fdc2-fc39bb5caf72"
   },
   "outputs": [
    {
     "data": {
      "text/plain": [
       "(1079.5397388920383, 30.27236057894313)"
      ]
     },
     "execution_count": 21,
     "metadata": {
      "tags": []
     },
     "output_type": "execute_result"
    }
   ],
   "source": [
    "from sklearn.ensemble import GradientBoostingRegressor\n",
    "gb=GradientBoostingRegressor(n_estimators=63,learning_rate=0.1,max_depth=3,random_state=0)\n",
    "score=cross_val_score(gb,df_fin,Y,cv=kf,scoring='neg_mean_squared_error')\n",
    "rmse=np.sqrt(np.abs(score))\n",
    "be=np.mean(rmse)\n",
    "ve=np.std(rmse,ddof=1)\n",
    "be,ve"
   ]
  },
  {
   "cell_type": "markdown",
   "metadata": {
    "id": "ZveKrV1c4UQH"
   },
   "source": [
    "## XGBoost Model Building"
   ]
  },
  {
   "cell_type": "code",
   "execution_count": null,
   "metadata": {
    "colab": {
     "base_uri": "https://localhost:8080/"
    },
    "id": "QeMZI5r29QNN",
    "outputId": "c9c34fd7-ca65-44a3-e233-462b1f64ecb6"
   },
   "outputs": [
    {
     "name": "stdout",
     "output_type": "stream",
     "text": [
      "Requirement already satisfied: xgboost in /usr/local/lib/python3.6/dist-packages (0.90)\n",
      "Requirement already satisfied: scikit-learn in /usr/local/lib/python3.6/dist-packages (0.22.2.post1)\n",
      "Requirement already satisfied: pandas in /usr/local/lib/python3.6/dist-packages (1.1.5)\n",
      "Requirement already satisfied: numpy in /usr/local/lib/python3.6/dist-packages (1.18.5)\n",
      "Requirement already satisfied: scipy in /usr/local/lib/python3.6/dist-packages (from xgboost) (1.4.1)\n",
      "Requirement already satisfied: joblib>=0.11 in /usr/local/lib/python3.6/dist-packages (from scikit-learn) (0.17.0)\n",
      "Requirement already satisfied: pytz>=2017.2 in /usr/local/lib/python3.6/dist-packages (from pandas) (2018.9)\n",
      "Requirement already satisfied: python-dateutil>=2.7.3 in /usr/local/lib/python3.6/dist-packages (from pandas) (2.8.1)\n",
      "Requirement already satisfied: six>=1.5 in /usr/local/lib/python3.6/dist-packages (from python-dateutil>=2.7.3->pandas) (1.15.0)\n"
     ]
    }
   ],
   "source": [
    "!pip install xgboost scikit-learn pandas numpy"
   ]
  },
  {
   "cell_type": "code",
   "execution_count": 22,
   "metadata": {
    "colab": {
     "base_uri": "https://localhost:8080/"
    },
    "id": "4Yi6-3io9Qj_",
    "outputId": "720681d8-8dfd-4463-803c-9975ffb9aa2e"
   },
   "outputs": [
    {
     "name": "stdout",
     "output_type": "stream",
     "text": [
      "[04:16:31] WARNING: /workspace/src/objective/regression_obj.cu:152: reg:linear is now deprecated in favor of reg:squarederror.\n",
      "[04:16:32] WARNING: /workspace/src/objective/regression_obj.cu:152: reg:linear is now deprecated in favor of reg:squarederror.\n",
      "[04:16:32] WARNING: /workspace/src/objective/regression_obj.cu:152: reg:linear is now deprecated in favor of reg:squarederror.\n",
      "[04:16:33] WARNING: /workspace/src/objective/regression_obj.cu:152: reg:linear is now deprecated in favor of reg:squarederror.\n",
      "[04:16:33] WARNING: /workspace/src/objective/regression_obj.cu:152: reg:linear is now deprecated in favor of reg:squarederror.\n"
     ]
    },
    {
     "data": {
      "text/plain": [
       "(1079.1319558908967, 29.02545946302096)"
      ]
     },
     "execution_count": 22,
     "metadata": {
      "tags": []
     },
     "output_type": "execute_result"
    }
   ],
   "source": [
    "import xgboost as xgb\n",
    "from xgboost import XGBRegressor\n",
    "gb=xgb.XGBRegressor(n_estimators=63,learning_rate=0.1,max_depth=3,random_state=0)\n",
    "score=cross_val_score(gb,df_fin,Y,cv=kf,scoring='neg_mean_squared_error')\n",
    "rmse=np.sqrt(np.abs(score))\n",
    "be=np.mean(rmse)\n",
    "ve=np.std(rmse,ddof=1)\n",
    "be,ve"
   ]
  },
  {
   "cell_type": "code",
   "execution_count": 26,
   "metadata": {
    "colab": {
     "base_uri": "https://localhost:8080/"
    },
    "id": "pFnVfu4D_1uY",
    "outputId": "c01161bd-a7d8-446f-db5e-bfba61394a28"
   },
   "outputs": [
    {
     "name": "stdout",
     "output_type": "stream",
     "text": [
      "[04:17:37] WARNING: /workspace/src/objective/regression_obj.cu:152: reg:linear is now deprecated in favor of reg:squarederror.\n",
      "[04:17:37] WARNING: /workspace/src/objective/regression_obj.cu:152: reg:linear is now deprecated in favor of reg:squarederror.\n",
      "[04:17:38] WARNING: /workspace/src/objective/regression_obj.cu:152: reg:linear is now deprecated in favor of reg:squarederror.\n",
      "[04:17:39] WARNING: /workspace/src/objective/regression_obj.cu:152: reg:linear is now deprecated in favor of reg:squarederror.\n",
      "[04:17:40] WARNING: /workspace/src/objective/regression_obj.cu:152: reg:linear is now deprecated in favor of reg:squarederror.\n"
     ]
    },
    {
     "data": {
      "text/plain": [
       "(1080.1741542581915, 28.284615529558558)"
      ]
     },
     "execution_count": 26,
     "metadata": {
      "tags": []
     },
     "output_type": "execute_result"
    }
   ],
   "source": [
    "from xgboost import XGBRegressor\n",
    "gb=XGBRegressor(random_state=0)\n",
    "score=cross_val_score(gb,df_fin,Y,cv=kf,scoring='neg_mean_squared_error')\n",
    "rmse=np.sqrt(np.abs(score))\n",
    "be=np.mean(rmse)\n",
    "ve=np.std(rmse,ddof=1)\n",
    "be,ve"
   ]
  },
  {
   "cell_type": "markdown",
   "metadata": {
    "id": "LWMQrZjc4b2v"
   },
   "source": [
    "## Voting Models Building"
   ]
  },
  {
   "cell_type": "code",
   "execution_count": 27,
   "metadata": {
    "id": "KE-h7olQ9yer"
   },
   "outputs": [],
   "source": [
    "from sklearn.ensemble import VotingRegressor"
   ]
  },
  {
   "cell_type": "code",
   "execution_count": 31,
   "metadata": {
    "id": "5rSuh6KQ9_E_"
   },
   "outputs": [],
   "source": [
    "est=[('rf',rf),('dt',dt),('gbr',gdr),('bdt',bdt)]\n",
    "est1=[('dt',dt),('rf',rf),('ada',ada)]\n",
    "est2=[('rf',rf),('ada',ada),('bdt',bdt)]\n"
   ]
  },
  {
   "cell_type": "code",
   "execution_count": 32,
   "metadata": {
    "id": "AzPuzFncUDes"
   },
   "outputs": [],
   "source": [
    "est3=[('gdr',gdr),('bdt',bdt)]"
   ]
  },
  {
   "cell_type": "code",
   "execution_count": 33,
   "metadata": {
    "colab": {
     "base_uri": "https://localhost:8080/"
    },
    "id": "hnvU03efUEkE",
    "outputId": "dd2e6db4-d2b4-491f-b924-a5ec6719b730"
   },
   "outputs": [
    {
     "data": {
      "text/plain": [
       "(1085.4336116826494, 23.553665989376324)"
      ]
     },
     "execution_count": 33,
     "metadata": {
      "tags": []
     },
     "output_type": "execute_result"
    }
   ],
   "source": [
    "vot1=VotingRegressor(estimators=est)\n",
    "score=cross_val_score(vot1,df_fin,Y,cv=kf,scoring='neg_mean_squared_error')\n",
    "rmse=np.sqrt(np.abs(score))\n",
    "be=np.mean(rmse)\n",
    "ve=np.std(rmse,ddof=1)\n",
    "be,ve"
   ]
  },
  {
   "cell_type": "code",
   "execution_count": 34,
   "metadata": {
    "colab": {
     "base_uri": "https://localhost:8080/"
    },
    "id": "DtHSROPFEEYV",
    "outputId": "7ce6ae5c-ef43-4540-e217-7f72996d158b"
   },
   "outputs": [
    {
     "data": {
      "text/plain": [
       "(1101.9870842208743, 18.189221831288506)"
      ]
     },
     "execution_count": 34,
     "metadata": {
      "tags": []
     },
     "output_type": "execute_result"
    }
   ],
   "source": [
    "vot1=VotingRegressor(estimators=est1)\n",
    "score=cross_val_score(vot1,df_fin,Y,cv=kf,scoring='neg_mean_squared_error')\n",
    "rmse=np.sqrt(np.abs(score))\n",
    "be=np.mean(rmse)\n",
    "ve=np.std(rmse,ddof=1)\n",
    "be,ve"
   ]
  },
  {
   "cell_type": "code",
   "execution_count": 35,
   "metadata": {
    "colab": {
     "base_uri": "https://localhost:8080/"
    },
    "id": "vDT6F34pF9rI",
    "outputId": "ec660d0d-e3bb-40c9-bc84-71917ad37951"
   },
   "outputs": [
    {
     "data": {
      "text/plain": [
       "(1101.6294826247408, 17.31563923285122)"
      ]
     },
     "execution_count": 35,
     "metadata": {
      "tags": []
     },
     "output_type": "execute_result"
    }
   ],
   "source": [
    "vot1=VotingRegressor(estimators=est2)\n",
    "score=cross_val_score(vot1,df_fin,Y,cv=kf,scoring='neg_mean_squared_error')\n",
    "rmse=np.sqrt(np.abs(score))\n",
    "be=np.mean(rmse)\n",
    "ve=np.std(rmse,ddof=1)\n",
    "be,ve"
   ]
  },
  {
   "cell_type": "code",
   "execution_count": 36,
   "metadata": {
    "colab": {
     "base_uri": "https://localhost:8080/"
    },
    "id": "6AVqoQtNUK3H",
    "outputId": "ce8aea02-069d-40ff-b4f0-6f6769aa4a9a"
   },
   "outputs": [
    {
     "data": {
      "text/plain": [
       "(1082.111272390133, 27.24466944384254)"
      ]
     },
     "execution_count": 36,
     "metadata": {
      "tags": []
     },
     "output_type": "execute_result"
    }
   ],
   "source": [
    "vot1=VotingRegressor(estimators=est3)\n",
    "score=cross_val_score(vot1,df_fin,Y,cv=kf,scoring='neg_mean_squared_error')\n",
    "rmse=np.sqrt(np.abs(score))\n",
    "be=np.mean(rmse)\n",
    "ve=np.std(rmse,ddof=1)\n",
    "be,ve"
   ]
  },
  {
   "cell_type": "markdown",
   "metadata": {
    "id": "M1riSM4D4iO8"
   },
   "source": [
    "## Comparing all the models build soo far to see which model perfromed the best for further analysis. "
   ]
  },
  {
   "cell_type": "code",
   "execution_count": 37,
   "metadata": {
    "id": "RNYsGTdE-bMo"
   },
   "outputs": [],
   "source": [
    "models=[]\n",
    "lr=LinearRegression()\n",
    "knn=KNeighborsRegressor(n_neighbors= 47, weights='distance')\n",
    "dt=DecisionTreeRegressor(max_depth=6,criterion='mse',random_state=0)\n",
    "rf=RandomForestRegressor(n_estimators=12,criterion='mse',random_state=0)\n",
    "bdt=BaggingRegressor(base_estimator=dt,n_estimators=4,random_state=0)\n",
    "ada=AdaBoostRegressor(n_estimators=4,random_state=0)\n",
    "gdr=GradientBoostingRegressor(n_estimators=63,random_state=0)\n",
    "vot=VotingRegressor(estimators=est)\n",
    "vot1=VotingRegressor(estimators=est1)\n",
    "vot2=VotingRegressor(estimators=est2)\n",
    "vot3=VotingRegressor(estimators=est3)\n",
    "models.append(('Logistic',lr))\n",
    "models.append(('KNN',knn))\n",
    "models.append(('Decision Tree',dt))\n",
    "models.append(('Random Forest',rf))\n",
    "models.append(('Bagging DT',bdt))\n",
    "models.append(('AdaBoostRegressor',ada))\n",
    "models.append(('Gradient Boosting',gdr))\n",
    "models.append(('Combo1',vot))\n",
    "models.append(('Combo2',vot1))\n",
    "models.append(('Combo3',vot2))\n",
    "models.append(('Combo4',vot3))"
   ]
  },
  {
   "cell_type": "code",
   "execution_count": 39,
   "metadata": {
    "colab": {
     "base_uri": "https://localhost:8080/",
     "height": 746
    },
    "id": "gYiZRnb4uUFt",
    "outputId": "9e502ec1-30b1-4e7a-a6e7-b64e1869dda1"
   },
   "outputs": [
    {
     "name": "stdout",
     "output_type": "stream",
     "text": [
      "Logistic: 1130.537109 (31.089525) (1161.626633)\n",
      "KNN: 1122.313860 (32.953562) (1155.267422)\n",
      "Decision Tree: 1099.664158 (28.959430) (1128.623587)\n",
      "Random Forest: 1159.373668 (16.112106) (1175.485774)\n",
      "Bagging DT: 1092.468845 (23.275135) (1115.743981)\n",
      "AdaBoostRegressor: 1200.697760 (15.416716) (1216.114476)\n",
      "Gradient Boosting: 1079.539739 (30.272361) (1109.812099)\n",
      "Combo1: 1085.433612 (23.553666) (1108.987278)\n",
      "Combo2: 1101.987084 (18.189222) (1120.176306)\n",
      "Combo3: 1101.629483 (17.315639) (1118.945122)\n",
      "Combo4: 1082.111272 (27.244669) (1109.355942)\n"
     ]
    },
    {
     "data": {
      "image/png": "[encoded data removed]",
      "text/plain": [
       "<Figure size 720x576 with 1 Axes>"
      ]
     },
     "metadata": {
      "needs_background": "light",
      "tags": []
     },
     "output_type": "display_data"
    }
   ],
   "source": [
    "import matplotlib.pyplot as plt\n",
    "import seaborn as sns\n",
    "results=[]\n",
    "names=[]\n",
    "for name,model in models:\n",
    "  cv_results=cross_val_score(model,df_fin,Y,cv=kf,scoring='neg_mean_squared_error')\n",
    "  results.append(cv_results)\n",
    "  names.append(name)\n",
    "  rmse=np.sqrt(np.abs(cv_results))\n",
    "  print('%s: %f (%f) (%f)' % (name,np.mean(rmse),np.std(rmse,ddof=1),np.mean(rmse)+np.std(rmse,ddof=1)))\n",
    "fig=plt.figure(figsize=(10,8))\n",
    "ax=fig.add_subplot(111)\n",
    "plt.boxplot(results)\n",
    "ax.set_xticklabels(names,rotation=45)\n",
    "plt.show()"
   ]
  },
  {
   "cell_type": "code",
   "execution_count": null,
   "metadata": {
    "colab": {
     "base_uri": "https://localhost:8080/"
    },
    "id": "fay3cYx7Dsed",
    "outputId": "573d6e91-0968-445a-d357-338343593d7c"
   },
   "outputs": [
    {
     "data": {
      "text/plain": [
       "{'alpha': 2.48}"
      ]
     },
     "execution_count": 107,
     "metadata": {
      "tags": []
     },
     "output_type": "execute_result"
    }
   ],
   "source": [
    "Ls=Lasso(alpha=0.1)\n",
    "param={'alpha':np.arange(0,10,0.01)}\n",
    "GS=GridSearchCV(Ls,param,cv=kf)\n",
    "GS.fit(df_fin,Y)\n",
    "GS.best_params_"
   ]
  },
  {
   "cell_type": "code",
   "execution_count": null,
   "metadata": {
    "colab": {
     "base_uri": "https://localhost:8080/"
    },
    "id": "1mMtUq3lDomJ",
    "outputId": "ee503293-ebd2-4d11-bbad-af4c66f3abae"
   },
   "outputs": [
    {
     "data": {
      "text/plain": [
       "{'alpha': 10.21}"
      ]
     },
     "execution_count": 111,
     "metadata": {
      "tags": []
     },
     "output_type": "execute_result"
    }
   ],
   "source": [
    "Rd=Ridge(alpha=0.5)\n",
    "param={'alpha':np.arange(0,20,0.01)}\n",
    "GS=GridSearchCV(Rd,param,cv=kf)\n",
    "GS.fit(df_fin,Y)\n",
    "GS.best_params_"
   ]
  },
  {
   "cell_type": "code",
   "execution_count": null,
   "metadata": {
    "id": "fLxxfOiE8g9h"
   },
   "outputs": [],
   "source": [
    "models1=[]\n",
    "Ls=Lasso(alpha=2.48)\n",
    "Rd=Ridge(alpha=10.21)\n",
    "En=ElasticNet(alpha=0.01,l1_ratio=0.9899999999999995)\n",
    "models1.append(('Ridge',Rd))\n",
    "models1.append(('Lasso',Ls))\n",
    "models1.append(('Elastic',En))"
   ]
  },
  {
   "cell_type": "code",
   "execution_count": null,
   "metadata": {
    "colab": {
     "base_uri": "https://localhost:8080/",
     "height": 345
    },
    "id": "ZMjq3HMm8ne-",
    "outputId": "5b7ddb07-3ce6-4370-81d9-28034e1bebd4"
   },
   "outputs": [
    {
     "name": "stdout",
     "output_type": "stream",
     "text": [
      "Ridge: 1130.519445 (31.636561)\n",
      "Lasso: 1129.337851 (32.633312)\n",
      "Elastic: 1130.501489 (31.145422)\n"
     ]
    },
    {
     "data": {
      "image/png": "[encoded data removed]",
      "text/plain": [
       "<Figure size 432x288 with 1 Axes>"
      ]
     },
     "metadata": {
      "needs_background": "light",
      "tags": []
     },
     "output_type": "display_data"
    }
   ],
   "source": [
    "# evaluate each model in turn\n",
    "results = []\n",
    "names = []\n",
    "for name, model in models1:\n",
    "\tkfold = KFold(shuffle=True,n_splits=5,random_state=0)\n",
    "\tcv_results = cross_val_score(model, df_fin, Y,cv=kf, scoring='neg_mean_squared_error')\n",
    "\tresults.append(np.sqrt(np.abs(cv_results)))\n",
    "\tnames.append(name)\n",
    "\tprint(\"%s: %f (%f)\" % (name, np.mean(np.sqrt(np.abs(cv_results))),np.std(np.sqrt(np.abs(cv_results)),ddof=1)))\n",
    "   # boxplot algorithm comparison\n",
    "fig = plt.figure()\n",
    "fig.suptitle('Algorithm Comparison')\n",
    "ax = fig.add_subplot(111)\n",
    "plt.boxplot(results)\n",
    "ax.set_xticklabels(names)\n",
    "plt.show()"
   ]
  },
  {
   "cell_type": "markdown",
   "metadata": {
    "id": "czbpmn6v421B"
   },
   "source": [
    "# From all the models the best that i can come up are top 3 models, so lets check them one by one:\n",
    "## 1))\n",
    "## 1) Random Forest \n",
    "## 2) Decision Tree \n",
    "## 3) Gradient Boosting with Hyperparameters\n",
    "## 4) Boosting with base estimator Decision Tree\n",
    "## 2))\n",
    "## GradientBoosting Model\n",
    "## 3))\n",
    "## XGBoost model\n",
    "## FInally the least error i can obtained is with XGBoost so below is the solutions .\n"
   ]
  },
  {
   "cell_type": "code",
   "execution_count": 40,
   "metadata": {
    "id": "wW3KvLcmICA8"
   },
   "outputs": [],
   "source": [
    "test['Outlet_Establishment_Year']=test['Outlet_Establishment_Year'].astype(str)"
   ]
  },
  {
   "cell_type": "code",
   "execution_count": 41,
   "metadata": {
    "id": "juYusF2kIEyg"
   },
   "outputs": [],
   "source": [
    "df=pd.DataFrame()\n",
    "df['Item_Identifier']=test['Item_Identifier']\n",
    "test.drop('Item_Identifier',axis=1,inplace=True)"
   ]
  },
  {
   "cell_type": "code",
   "execution_count": null,
   "metadata": {
    "colab": {
     "base_uri": "https://localhost:8080/",
     "height": 204
    },
    "id": "oN59r49gkC0K",
    "outputId": "9b4f7b59-fe71-4314-e710-e2c993ac4f80"
   },
   "outputs": [
    {
     "data": {
      "text/html": [
       "<div>\n",
       "<style scoped>\n",
       "    .dataframe tbody tr th:only-of-type {\n",
       "        vertical-align: middle;\n",
       "    }\n",
       "\n",
       "    .dataframe tbody tr th {\n",
       "        vertical-align: top;\n",
       "    }\n",
       "\n",
       "    .dataframe thead th {\n",
       "        text-align: right;\n",
       "    }\n",
       "</style>\n",
       "<table border=\"1\" class=\"dataframe\">\n",
       "  <thead>\n",
       "    <tr style=\"text-align: right;\">\n",
       "      <th></th>\n",
       "      <th>Item_Identifier</th>\n",
       "    </tr>\n",
       "  </thead>\n",
       "  <tbody>\n",
       "    <tr>\n",
       "      <th>0</th>\n",
       "      <td>FDW58</td>\n",
       "    </tr>\n",
       "    <tr>\n",
       "      <th>1</th>\n",
       "      <td>FDW14</td>\n",
       "    </tr>\n",
       "    <tr>\n",
       "      <th>2</th>\n",
       "      <td>NCN55</td>\n",
       "    </tr>\n",
       "    <tr>\n",
       "      <th>3</th>\n",
       "      <td>FDQ58</td>\n",
       "    </tr>\n",
       "    <tr>\n",
       "      <th>4</th>\n",
       "      <td>FDY38</td>\n",
       "    </tr>\n",
       "  </tbody>\n",
       "</table>\n",
       "</div>"
      ],
      "text/plain": [
       "  Item_Identifier\n",
       "0           FDW58\n",
       "1           FDW14\n",
       "2           NCN55\n",
       "3           FDQ58\n",
       "4           FDY38"
      ]
     },
     "execution_count": 64,
     "metadata": {
      "tags": []
     },
     "output_type": "execute_result"
    }
   ],
   "source": [
    "df.head()"
   ]
  },
  {
   "cell_type": "markdown",
   "metadata": {
    "id": "9uHRfbSI5gnH"
   },
   "source": [
    "## Applying the same steps that is applied to the train model and then fitting the selected model."
   ]
  },
  {
   "cell_type": "code",
   "execution_count": 42,
   "metadata": {
    "id": "uC3z5OVlINVR"
   },
   "outputs": [],
   "source": [
    "\n",
    "first_step_test = trf1.transform(test)\n",
    "fin_df_test=pd.DataFrame(first_step_test,columns=col)\n",
    "cat=pd.get_dummies(fin_df_test,columns=['Item_Fat_Content','Item_Type','Outlet_Identifier','Outlet_Establishment_Year',\n",
    "                                        'Outlet_Size','Outlet_Location_Type'],drop_first=True)\n",
    "a=cat[['Item_Weight','Item_Visibility','Item_MRP']]\n",
    "b=a.columns\n",
    "a=sc.transform(a)\n",
    "num=pd.DataFrame(a,columns=b)\n",
    "df_fin_test=pd.concat([num,cat.iloc[:,3:]],axis=1)"
   ]
  },
  {
   "cell_type": "code",
   "execution_count": 43,
   "metadata": {
    "colab": {
     "base_uri": "https://localhost:8080/"
    },
    "id": "jKHXtgxPMVSm",
    "outputId": "618f63e8-843f-4eec-d793-6dab6208ee9c"
   },
   "outputs": [
    {
     "data": {
      "text/plain": [
       "1094.6423219273659"
      ]
     },
     "execution_count": 43,
     "metadata": {
      "tags": []
     },
     "output_type": "execute_result"
    }
   ],
   "source": [
    "from sklearn.model_selection import train_test_split\n",
    "from sklearn import metrics\n",
    "x_train,x_test,y_train,y_test=train_test_split(df_fin,Y,random_state=0,test_size=0.2)\n",
    "vot1=VotingRegressor(estimators=est)\n",
    "vot1.fit(x_train,y_train)\n",
    "y_pred=vot1.predict(x_test)\n",
    "np.sqrt(metrics.mean_squared_error(y_test,y_pred))"
   ]
  },
  {
   "cell_type": "code",
   "execution_count": 53,
   "metadata": {
    "colab": {
     "base_uri": "https://localhost:8080/"
    },
    "id": "A3EYz7yQdmwq",
    "outputId": "9b34efef-b957-4637-b5e8-9b7fd5f24b3c"
   },
   "outputs": [
    {
     "data": {
      "text/plain": [
       "1087.279120361604"
      ]
     },
     "execution_count": 53,
     "metadata": {
      "tags": []
     },
     "output_type": "execute_result"
    }
   ],
   "source": [
    "from sklearn.model_selection import train_test_split\n",
    "from sklearn import metrics\n",
    "x_train,x_test,y_train,y_test=train_test_split(df_fin,Y,random_state=0,test_size=0.2)\n",
    "gb=GradientBoostingRegressor(n_estimators=63,learning_rate=0.1,max_depth=3,random_state=0)\n",
    "gb.fit(x_train,y_train)\n",
    "y_pred=gb.predict(x_test)\n",
    "np.sqrt(metrics.mean_squared_error(y_test,y_pred))"
   ]
  },
  {
   "cell_type": "code",
   "execution_count": 46,
   "metadata": {
    "colab": {
     "base_uri": "https://localhost:8080/"
    },
    "id": "LwqIBVHSfXcW",
    "outputId": "7feda952-cf98-4d2b-ca7a-1fb0f98882c6"
   },
   "outputs": [
    {
     "data": {
      "text/plain": [
       "1093.1129418579344"
      ]
     },
     "execution_count": 46,
     "metadata": {
      "tags": []
     },
     "output_type": "execute_result"
    }
   ],
   "source": [
    "from sklearn.model_selection import train_test_split\n",
    "from sklearn import metrics\n",
    "x_train,x_test,y_train,y_test=train_test_split(df_fin,Y,random_state=0,test_size=0.2)\n",
    "vot1=VotingRegressor(estimators=est3)\n",
    "vot1.fit(x_train,y_train)\n",
    "y_pred=vot1.predict(x_test)\n",
    "np.sqrt(metrics.mean_squared_error(y_test,y_pred))"
   ]
  },
  {
   "cell_type": "code",
   "execution_count": 54,
   "metadata": {
    "colab": {
     "base_uri": "https://localhost:8080/"
    },
    "id": "99zvkb9MfeMp",
    "outputId": "94744c55-4afd-4760-e868-69ea5dfbf9ca"
   },
   "outputs": [
    {
     "name": "stdout",
     "output_type": "stream",
     "text": [
      "[05:00:42] WARNING: /workspace/src/objective/regression_obj.cu:152: reg:linear is now deprecated in favor of reg:squarederror.\n"
     ]
    },
    {
     "data": {
      "text/plain": [
       "1086.7665245042413"
      ]
     },
     "execution_count": 54,
     "metadata": {
      "tags": []
     },
     "output_type": "execute_result"
    }
   ],
   "source": [
    "from sklearn.model_selection import train_test_split\n",
    "from sklearn import metrics\n",
    "x_train,x_test,y_train,y_test=train_test_split(df_fin,Y,random_state=0,test_size=0.2)\n",
    "xgb=XGBRegressor(n_estimators=63,learning_rate=0.1,max_depth=3,random_state=0)\n",
    "xgb.fit(x_train,y_train)\n",
    "y_pred=xgb.predict(x_test)\n",
    "np.sqrt(metrics.mean_squared_error(y_test,y_pred))"
   ]
  },
  {
   "cell_type": "code",
   "execution_count": 55,
   "metadata": {
    "colab": {
     "base_uri": "https://localhost:8080/"
    },
    "id": "--9g9scmelD5",
    "outputId": "e2ad6e64-7c7a-443f-f25a-ca0dd0e38a9a"
   },
   "outputs": [
    {
     "name": "stdout",
     "output_type": "stream",
     "text": [
      "[05:00:51] WARNING: /workspace/src/objective/regression_obj.cu:152: reg:linear is now deprecated in favor of reg:squarederror.\n"
     ]
    },
    {
     "data": {
      "text/plain": [
       "XGBRegressor(base_score=0.5, booster='gbtree', colsample_bylevel=1,\n",
       "             colsample_bynode=1, colsample_bytree=1, gamma=0,\n",
       "             importance_type='gain', learning_rate=0.1, max_delta_step=0,\n",
       "             max_depth=3, min_child_weight=1, missing=None, n_estimators=63,\n",
       "             n_jobs=1, nthread=None, objective='reg:linear', random_state=0,\n",
       "             reg_alpha=0, reg_lambda=1, scale_pos_weight=1, seed=None,\n",
       "             silent=None, subsample=1, verbosity=1)"
      ]
     },
     "execution_count": 55,
     "metadata": {
      "tags": []
     },
     "output_type": "execute_result"
    }
   ],
   "source": [
    "xgb.fit(df_fin,Y)"
   ]
  },
  {
   "cell_type": "code",
   "execution_count": null,
   "metadata": {
    "colab": {
     "base_uri": "https://localhost:8080/"
    },
    "id": "TF3NL2QUKtMK",
    "outputId": "3c2da95a-4d7d-41c3-d924-84b96e47ce28"
   },
   "outputs": [
    {
     "data": {
      "text/plain": [
       "VotingRegressor(estimators=[('rf',\n",
       "                             RandomForestRegressor(bootstrap=True,\n",
       "                                                   ccp_alpha=0.0,\n",
       "                                                   criterion='mse',\n",
       "                                                   max_depth=None,\n",
       "                                                   max_features='auto',\n",
       "                                                   max_leaf_nodes=None,\n",
       "                                                   max_samples=None,\n",
       "                                                   min_impurity_decrease=0.0,\n",
       "                                                   min_impurity_split=None,\n",
       "                                                   min_samples_leaf=1,\n",
       "                                                   min_samples_split=2,\n",
       "                                                   min_weight_fraction_leaf=0.0,\n",
       "                                                   n_estimators=12, n_jobs=None,\n",
       "                                                   oob_score=False,\n",
       "                                                   random_state=0,...\n",
       "                                                                                   min_impurity_decrease=0.0,\n",
       "                                                                                   min_impurity_split=None,\n",
       "                                                                                   min_samples_leaf=1,\n",
       "                                                                                   min_samples_split=2,\n",
       "                                                                                   min_weight_fraction_leaf=0.0,\n",
       "                                                                                   presort='deprecated',\n",
       "                                                                                   random_state=0,\n",
       "                                                                                   splitter='best'),\n",
       "                                              bootstrap=True,\n",
       "                                              bootstrap_features=False,\n",
       "                                              max_features=1.0, max_samples=1.0,\n",
       "                                              n_estimators=4, n_jobs=None,\n",
       "                                              oob_score=False, random_state=0,\n",
       "                                              verbose=0, warm_start=False))],\n",
       "                n_jobs=None, weights=None)"
      ]
     },
     "execution_count": 67,
     "metadata": {
      "tags": []
     },
     "output_type": "execute_result"
    }
   ],
   "source": [
    "vot1=VotingRegressor(estimators=est)\n",
    "vot1.fit(df_fin,Y)"
   ]
  },
  {
   "cell_type": "code",
   "execution_count": null,
   "metadata": {
    "id": "unHouCHILIQu"
   },
   "outputs": [],
   "source": [
    "y_pred_fin=vot1.predict(df_fin_test)"
   ]
  },
  {
   "cell_type": "code",
   "execution_count": 56,
   "metadata": {
    "id": "NpMGZaWfexr7"
   },
   "outputs": [],
   "source": [
    "y_pred_fin_xgb=xgb.predict(df_fin_test)"
   ]
  },
  {
   "cell_type": "code",
   "execution_count": null,
   "metadata": {
    "colab": {
     "base_uri": "https://localhost:8080/",
     "height": 309
    },
    "id": "9wYq-ZPFNrWe",
    "outputId": "b8a811f5-05ac-47aa-feed-6496344b70ec"
   },
   "outputs": [
    {
     "data": {
      "text/html": [
       "<div>\n",
       "<style scoped>\n",
       "    .dataframe tbody tr th:only-of-type {\n",
       "        vertical-align: middle;\n",
       "    }\n",
       "\n",
       "    .dataframe tbody tr th {\n",
       "        vertical-align: top;\n",
       "    }\n",
       "\n",
       "    .dataframe thead th {\n",
       "        text-align: right;\n",
       "    }\n",
       "</style>\n",
       "<table border=\"1\" class=\"dataframe\">\n",
       "  <thead>\n",
       "    <tr style=\"text-align: right;\">\n",
       "      <th></th>\n",
       "      <th>Item_Weight</th>\n",
       "      <th>Item_Fat_Content</th>\n",
       "      <th>Item_Visibility</th>\n",
       "      <th>Item_Type</th>\n",
       "      <th>Item_MRP</th>\n",
       "      <th>Outlet_Identifier</th>\n",
       "      <th>Outlet_Establishment_Year</th>\n",
       "      <th>Outlet_Size</th>\n",
       "      <th>Outlet_Location_Type</th>\n",
       "      <th>Outlet_Type</th>\n",
       "      <th>Item_Outlet_Sales</th>\n",
       "    </tr>\n",
       "  </thead>\n",
       "  <tbody>\n",
       "    <tr>\n",
       "      <th>0</th>\n",
       "      <td>9.30</td>\n",
       "      <td>Low Fat</td>\n",
       "      <td>0.016047</td>\n",
       "      <td>Dairy</td>\n",
       "      <td>249.8092</td>\n",
       "      <td>OUT049</td>\n",
       "      <td>1999</td>\n",
       "      <td>Medium</td>\n",
       "      <td>Tier 1</td>\n",
       "      <td>Supermarket Type1</td>\n",
       "      <td>3735.1380</td>\n",
       "    </tr>\n",
       "    <tr>\n",
       "      <th>1</th>\n",
       "      <td>5.92</td>\n",
       "      <td>Regular</td>\n",
       "      <td>0.019278</td>\n",
       "      <td>Soft Drinks</td>\n",
       "      <td>48.2692</td>\n",
       "      <td>OUT018</td>\n",
       "      <td>2009</td>\n",
       "      <td>Medium</td>\n",
       "      <td>Tier 3</td>\n",
       "      <td>Supermarket Type2</td>\n",
       "      <td>443.4228</td>\n",
       "    </tr>\n",
       "    <tr>\n",
       "      <th>2</th>\n",
       "      <td>17.50</td>\n",
       "      <td>Low Fat</td>\n",
       "      <td>0.016760</td>\n",
       "      <td>Meat</td>\n",
       "      <td>141.6180</td>\n",
       "      <td>OUT049</td>\n",
       "      <td>1999</td>\n",
       "      <td>Medium</td>\n",
       "      <td>Tier 1</td>\n",
       "      <td>Supermarket Type1</td>\n",
       "      <td>2097.2700</td>\n",
       "    </tr>\n",
       "    <tr>\n",
       "      <th>3</th>\n",
       "      <td>19.20</td>\n",
       "      <td>Regular</td>\n",
       "      <td>0.000000</td>\n",
       "      <td>Fruits and Vegetables</td>\n",
       "      <td>182.0950</td>\n",
       "      <td>OUT010</td>\n",
       "      <td>1998</td>\n",
       "      <td>NaN</td>\n",
       "      <td>Tier 3</td>\n",
       "      <td>Grocery Store</td>\n",
       "      <td>732.3800</td>\n",
       "    </tr>\n",
       "    <tr>\n",
       "      <th>4</th>\n",
       "      <td>8.93</td>\n",
       "      <td>Low Fat</td>\n",
       "      <td>0.000000</td>\n",
       "      <td>Household</td>\n",
       "      <td>53.8614</td>\n",
       "      <td>OUT013</td>\n",
       "      <td>1987</td>\n",
       "      <td>High</td>\n",
       "      <td>Tier 3</td>\n",
       "      <td>Supermarket Type1</td>\n",
       "      <td>994.7052</td>\n",
       "    </tr>\n",
       "  </tbody>\n",
       "</table>\n",
       "</div>"
      ],
      "text/plain": [
       "   Item_Weight Item_Fat_Content  ...        Outlet_Type Item_Outlet_Sales\n",
       "0         9.30          Low Fat  ...  Supermarket Type1         3735.1380\n",
       "1         5.92          Regular  ...  Supermarket Type2          443.4228\n",
       "2        17.50          Low Fat  ...  Supermarket Type1         2097.2700\n",
       "3        19.20          Regular  ...      Grocery Store          732.3800\n",
       "4         8.93          Low Fat  ...  Supermarket Type1          994.7052\n",
       "\n",
       "[5 rows x 11 columns]"
      ]
     },
     "execution_count": 69,
     "metadata": {
      "tags": []
     },
     "output_type": "execute_result"
    }
   ],
   "source": [
    "train.head()"
   ]
  },
  {
   "cell_type": "code",
   "execution_count": 58,
   "metadata": {
    "colab": {
     "base_uri": "https://localhost:8080/",
     "height": 258
    },
    "id": "vagHfNh2NYNt",
    "outputId": "982effde-dd3d-422b-d3f3-c4654097fd5c"
   },
   "outputs": [
    {
     "data": {
      "text/html": [
       "<div>\n",
       "<style scoped>\n",
       "    .dataframe tbody tr th:only-of-type {\n",
       "        vertical-align: middle;\n",
       "    }\n",
       "\n",
       "    .dataframe tbody tr th {\n",
       "        vertical-align: top;\n",
       "    }\n",
       "\n",
       "    .dataframe thead th {\n",
       "        text-align: right;\n",
       "    }\n",
       "</style>\n",
       "<table border=\"1\" class=\"dataframe\">\n",
       "  <thead>\n",
       "    <tr style=\"text-align: right;\">\n",
       "      <th></th>\n",
       "      <th>Item_Fat_Content</th>\n",
       "      <th>Item_Type</th>\n",
       "      <th>Outlet_Identifier</th>\n",
       "      <th>Outlet_Establishment_Year</th>\n",
       "      <th>Outlet_Size</th>\n",
       "      <th>Outlet_Location_Type</th>\n",
       "      <th>Item_Weight</th>\n",
       "      <th>Item_Visibility</th>\n",
       "      <th>Item_MRP</th>\n",
       "      <th>Item_Outlet_Sales</th>\n",
       "    </tr>\n",
       "  </thead>\n",
       "  <tbody>\n",
       "    <tr>\n",
       "      <th>0</th>\n",
       "      <td>Low Fat</td>\n",
       "      <td>Snack Foods</td>\n",
       "      <td>OUT049</td>\n",
       "      <td>1999</td>\n",
       "      <td>Medium</td>\n",
       "      <td>Tier 1</td>\n",
       "      <td>20.75</td>\n",
       "      <td>0.00756484</td>\n",
       "      <td>107.862</td>\n",
       "      <td>1671.000732</td>\n",
       "    </tr>\n",
       "    <tr>\n",
       "      <th>1</th>\n",
       "      <td>reg</td>\n",
       "      <td>Dairy</td>\n",
       "      <td>OUT017</td>\n",
       "      <td>2007</td>\n",
       "      <td>Medium</td>\n",
       "      <td>Tier 2</td>\n",
       "      <td>8.3</td>\n",
       "      <td>0.0384277</td>\n",
       "      <td>87.3198</td>\n",
       "      <td>1366.005249</td>\n",
       "    </tr>\n",
       "    <tr>\n",
       "      <th>2</th>\n",
       "      <td>Low Fat</td>\n",
       "      <td>Others</td>\n",
       "      <td>OUT010</td>\n",
       "      <td>1998</td>\n",
       "      <td>Medium</td>\n",
       "      <td>Tier 3</td>\n",
       "      <td>14.6</td>\n",
       "      <td>0.0995749</td>\n",
       "      <td>241.754</td>\n",
       "      <td>586.559692</td>\n",
       "    </tr>\n",
       "    <tr>\n",
       "      <th>3</th>\n",
       "      <td>Low Fat</td>\n",
       "      <td>Snack Foods</td>\n",
       "      <td>OUT017</td>\n",
       "      <td>2007</td>\n",
       "      <td>Medium</td>\n",
       "      <td>Tier 2</td>\n",
       "      <td>7.315</td>\n",
       "      <td>0.0153884</td>\n",
       "      <td>155.034</td>\n",
       "      <td>2461.991943</td>\n",
       "    </tr>\n",
       "    <tr>\n",
       "      <th>4</th>\n",
       "      <td>Regular</td>\n",
       "      <td>Dairy</td>\n",
       "      <td>OUT027</td>\n",
       "      <td>1985</td>\n",
       "      <td>Medium</td>\n",
       "      <td>Tier 3</td>\n",
       "      <td>12.6</td>\n",
       "      <td>0.118599</td>\n",
       "      <td>234.23</td>\n",
       "      <td>5901.684570</td>\n",
       "    </tr>\n",
       "  </tbody>\n",
       "</table>\n",
       "</div>"
      ],
      "text/plain": [
       "  Item_Fat_Content    Item_Type  ... Item_MRP Item_Outlet_Sales\n",
       "0          Low Fat  Snack Foods  ...  107.862       1671.000732\n",
       "1              reg        Dairy  ...  87.3198       1366.005249\n",
       "2          Low Fat       Others  ...  241.754        586.559692\n",
       "3          Low Fat  Snack Foods  ...  155.034       2461.991943\n",
       "4          Regular        Dairy  ...   234.23       5901.684570\n",
       "\n",
       "[5 rows x 10 columns]"
      ]
     },
     "execution_count": 58,
     "metadata": {
      "tags": []
     },
     "output_type": "execute_result"
    }
   ],
   "source": [
    "fin_df_test['Item_Outlet_Sales']=y_pred_fin_xgb\n",
    "fin_df_test.head()"
   ]
  },
  {
   "cell_type": "code",
   "execution_count": null,
   "metadata": {
    "id": "nVdluXp1e5v9"
   },
   "outputs": [],
   "source": []
  },
  {
   "cell_type": "code",
   "execution_count": null,
   "metadata": {
    "colab": {
     "base_uri": "https://localhost:8080/",
     "height": 258
    },
    "id": "-U1ceZ1Ae6ct",
    "outputId": "e214a881-075c-4f73-ddc7-fc277779a083"
   },
   "outputs": [
    {
     "data": {
      "text/html": [
       "<div>\n",
       "<style scoped>\n",
       "    .dataframe tbody tr th:only-of-type {\n",
       "        vertical-align: middle;\n",
       "    }\n",
       "\n",
       "    .dataframe tbody tr th {\n",
       "        vertical-align: top;\n",
       "    }\n",
       "\n",
       "    .dataframe thead th {\n",
       "        text-align: right;\n",
       "    }\n",
       "</style>\n",
       "<table border=\"1\" class=\"dataframe\">\n",
       "  <thead>\n",
       "    <tr style=\"text-align: right;\">\n",
       "      <th></th>\n",
       "      <th>Item_Fat_Content</th>\n",
       "      <th>Item_Type</th>\n",
       "      <th>Outlet_Identifier</th>\n",
       "      <th>Outlet_Establishment_Year</th>\n",
       "      <th>Outlet_Size</th>\n",
       "      <th>Outlet_Location_Type</th>\n",
       "      <th>Item_Weight</th>\n",
       "      <th>Item_Visibility</th>\n",
       "      <th>Item_MRP</th>\n",
       "      <th>Item_Outlet_Sales</th>\n",
       "    </tr>\n",
       "  </thead>\n",
       "  <tbody>\n",
       "    <tr>\n",
       "      <th>0</th>\n",
       "      <td>Low Fat</td>\n",
       "      <td>Snack Foods</td>\n",
       "      <td>OUT049</td>\n",
       "      <td>1999</td>\n",
       "      <td>Medium</td>\n",
       "      <td>Tier 1</td>\n",
       "      <td>20.75</td>\n",
       "      <td>0.00756484</td>\n",
       "      <td>107.862</td>\n",
       "      <td>1678.048906</td>\n",
       "    </tr>\n",
       "    <tr>\n",
       "      <th>1</th>\n",
       "      <td>reg</td>\n",
       "      <td>Dairy</td>\n",
       "      <td>OUT017</td>\n",
       "      <td>2007</td>\n",
       "      <td>Medium</td>\n",
       "      <td>Tier 2</td>\n",
       "      <td>8.3</td>\n",
       "      <td>0.0384277</td>\n",
       "      <td>87.3198</td>\n",
       "      <td>1352.125140</td>\n",
       "    </tr>\n",
       "    <tr>\n",
       "      <th>2</th>\n",
       "      <td>Low Fat</td>\n",
       "      <td>Others</td>\n",
       "      <td>OUT010</td>\n",
       "      <td>1998</td>\n",
       "      <td>Medium</td>\n",
       "      <td>Tier 3</td>\n",
       "      <td>14.6</td>\n",
       "      <td>0.0995749</td>\n",
       "      <td>241.754</td>\n",
       "      <td>623.775219</td>\n",
       "    </tr>\n",
       "    <tr>\n",
       "      <th>3</th>\n",
       "      <td>Low Fat</td>\n",
       "      <td>Snack Foods</td>\n",
       "      <td>OUT017</td>\n",
       "      <td>2007</td>\n",
       "      <td>Medium</td>\n",
       "      <td>Tier 2</td>\n",
       "      <td>7.315</td>\n",
       "      <td>0.0153884</td>\n",
       "      <td>155.034</td>\n",
       "      <td>2462.620741</td>\n",
       "    </tr>\n",
       "    <tr>\n",
       "      <th>4</th>\n",
       "      <td>Regular</td>\n",
       "      <td>Dairy</td>\n",
       "      <td>OUT027</td>\n",
       "      <td>1985</td>\n",
       "      <td>Medium</td>\n",
       "      <td>Tier 3</td>\n",
       "      <td>12.6</td>\n",
       "      <td>0.118599</td>\n",
       "      <td>234.23</td>\n",
       "      <td>6034.680048</td>\n",
       "    </tr>\n",
       "  </tbody>\n",
       "</table>\n",
       "</div>"
      ],
      "text/plain": [
       "  Item_Fat_Content    Item_Type  ... Item_MRP Item_Outlet_Sales\n",
       "0          Low Fat  Snack Foods  ...  107.862       1678.048906\n",
       "1              reg        Dairy  ...  87.3198       1352.125140\n",
       "2          Low Fat       Others  ...  241.754        623.775219\n",
       "3          Low Fat  Snack Foods  ...  155.034       2462.620741\n",
       "4          Regular        Dairy  ...   234.23       6034.680048\n",
       "\n",
       "[5 rows x 10 columns]"
      ]
     },
     "execution_count": 118,
     "metadata": {
      "tags": []
     },
     "output_type": "execute_result"
    }
   ],
   "source": [
    "fin_df_test['Item_Outlet_Sales']=y_pred_fin_gb\n",
    "fin_df_test.head()"
   ]
  },
  {
   "cell_type": "code",
   "execution_count": 59,
   "metadata": {
    "id": "4T9VbvYaNibh"
   },
   "outputs": [],
   "source": [
    "df['Outlet_Identifier']=fin_df_test['Outlet_Identifier']"
   ]
  },
  {
   "cell_type": "code",
   "execution_count": 60,
   "metadata": {
    "id": "VvgEHd_ak4x2"
   },
   "outputs": [],
   "source": [
    "df['Item_Outlet_Sales']=fin_df_test['Item_Outlet_Sales']"
   ]
  },
  {
   "cell_type": "code",
   "execution_count": 61,
   "metadata": {
    "colab": {
     "base_uri": "https://localhost:8080/",
     "height": 204
    },
    "id": "X_rcjVO7klnx",
    "outputId": "11de480e-6e54-4a0c-dd64-0cf6dd8ea26d"
   },
   "outputs": [
    {
     "data": {
      "text/html": [
       "<div>\n",
       "<style scoped>\n",
       "    .dataframe tbody tr th:only-of-type {\n",
       "        vertical-align: middle;\n",
       "    }\n",
       "\n",
       "    .dataframe tbody tr th {\n",
       "        vertical-align: top;\n",
       "    }\n",
       "\n",
       "    .dataframe thead th {\n",
       "        text-align: right;\n",
       "    }\n",
       "</style>\n",
       "<table border=\"1\" class=\"dataframe\">\n",
       "  <thead>\n",
       "    <tr style=\"text-align: right;\">\n",
       "      <th></th>\n",
       "      <th>Item_Identifier</th>\n",
       "      <th>Outlet_Identifier</th>\n",
       "      <th>Item_Outlet_Sales</th>\n",
       "    </tr>\n",
       "  </thead>\n",
       "  <tbody>\n",
       "    <tr>\n",
       "      <th>0</th>\n",
       "      <td>FDW58</td>\n",
       "      <td>OUT049</td>\n",
       "      <td>1671.000732</td>\n",
       "    </tr>\n",
       "    <tr>\n",
       "      <th>1</th>\n",
       "      <td>FDW14</td>\n",
       "      <td>OUT017</td>\n",
       "      <td>1366.005249</td>\n",
       "    </tr>\n",
       "    <tr>\n",
       "      <th>2</th>\n",
       "      <td>NCN55</td>\n",
       "      <td>OUT010</td>\n",
       "      <td>586.559692</td>\n",
       "    </tr>\n",
       "    <tr>\n",
       "      <th>3</th>\n",
       "      <td>FDQ58</td>\n",
       "      <td>OUT017</td>\n",
       "      <td>2461.991943</td>\n",
       "    </tr>\n",
       "    <tr>\n",
       "      <th>4</th>\n",
       "      <td>FDY38</td>\n",
       "      <td>OUT027</td>\n",
       "      <td>5901.684570</td>\n",
       "    </tr>\n",
       "  </tbody>\n",
       "</table>\n",
       "</div>"
      ],
      "text/plain": [
       "  Item_Identifier Outlet_Identifier  Item_Outlet_Sales\n",
       "0           FDW58            OUT049        1671.000732\n",
       "1           FDW14            OUT017        1366.005249\n",
       "2           NCN55            OUT010         586.559692\n",
       "3           FDQ58            OUT017        2461.991943\n",
       "4           FDY38            OUT027        5901.684570"
      ]
     },
     "execution_count": 61,
     "metadata": {
      "tags": []
     },
     "output_type": "execute_result"
    }
   ],
   "source": [
    "df.head()"
   ]
  },
  {
   "cell_type": "code",
   "execution_count": null,
   "metadata": {
    "colab": {
     "base_uri": "https://localhost:8080/"
    },
    "id": "S819Vam_k2vK",
    "outputId": "6e01d8f6-397f-47fb-b2cc-6a5eecec572b"
   },
   "outputs": [
    {
     "data": {
      "text/plain": [
       "Item_Identifier      0\n",
       "Outlet_Identifier    0\n",
       "Item_Outlet_Sales    0\n",
       "dtype: int64"
      ]
     },
     "execution_count": 77,
     "metadata": {
      "tags": []
     },
     "output_type": "execute_result"
    }
   ],
   "source": [
    "df.isna().sum()"
   ]
  },
  {
   "cell_type": "code",
   "execution_count": 62,
   "metadata": {
    "colab": {
     "base_uri": "https://localhost:8080/",
     "height": 17
    },
    "id": "n7KX-kH5qhvQ",
    "outputId": "1a61a1a6-d7c9-47e7-bb2a-980fdf500a15"
   },
   "outputs": [
    {
     "data": {
      "application/javascript": [
       "\n",
       "    async function download(id, filename, size) {\n",
       "      if (!google.colab.kernel.accessAllowed) {\n",
       "        return;\n",
       "      }\n",
       "      const div = document.createElement('div');\n",
       "      const label = document.createElement('label');\n",
       "      label.textContent = `Downloading \"${filename}\": `;\n",
       "      div.appendChild(label);\n",
       "      const progress = document.createElement('progress');\n",
       "      progress.max = size;\n",
       "      div.appendChild(progress);\n",
       "      document.body.appendChild(div);\n",
       "\n",
       "      const buffers = [];\n",
       "      let downloaded = 0;\n",
       "\n",
       "      const channel = await google.colab.kernel.comms.open(id);\n",
       "      // Send a message to notify the kernel that we're ready.\n",
       "      channel.send({})\n",
       "\n",
       "      for await (const message of channel.messages) {\n",
       "        // Send a message to notify the kernel that we're ready.\n",
       "        channel.send({})\n",
       "        if (message.buffers) {\n",
       "          for (const buffer of message.buffers) {\n",
       "            buffers.push(buffer);\n",
       "            downloaded += buffer.byteLength;\n",
       "            progress.value = downloaded;\n",
       "          }\n",
       "        }\n",
       "      }\n",
       "      const blob = new Blob(buffers, {type: 'application/binary'});\n",
       "      const a = document.createElement('a');\n",
       "      a.href = window.URL.createObjectURL(blob);\n",
       "      a.download = filename;\n",
       "      div.appendChild(a);\n",
       "      a.click();\n",
       "      div.remove();\n",
       "    }\n",
       "  "
      ],
      "text/plain": [
       "<IPython.core.display.Javascript object>"
      ]
     },
     "metadata": {
      "tags": []
     },
     "output_type": "display_data"
    },
    {
     "data": {
      "application/javascript": [
       "download(\"download_37b46e36-6079-4c64-8d48-3781db18e034\", \"BigMartSalesPrediction1.csv\", 156171)"
      ],
      "text/plain": [
       "<IPython.core.display.Javascript object>"
      ]
     },
     "metadata": {
      "tags": []
     },
     "output_type": "display_data"
    }
   ],
   "source": [
    "from google.colab import files\n",
    "df.to_csv('BigMartSalesPrediction1.csv') \n",
    "files.download('BigMartSalesPrediction1.csv')"
   ]
  },
  {
   "cell_type": "code",
   "execution_count": null,
   "metadata": {
    "id": "JnYiFZtArFvt"
   },
   "outputs": [],
   "source": []
  }
 ],
 "metadata": {
  "colab": {
   "collapsed_sections": [],
   "name": "Big Mart Sales.ipynb",
   "provenance": []
  },
  "kernelspec": {
   "display_name": "Python 3",
   "language": "python",
   "name": "python3"
  },
  "language_info": {
   "codemirror_mode": {
    "name": "ipython",
    "version": 3
   },
   "file_extension": ".py",
   "mimetype": "text/x-python",
   "name": "python",
   "nbconvert_exporter": "python",
   "pygments_lexer": "ipython3",
   "version": "3.7.4"
  }
 },
 "nbformat": 4,
 "nbformat_minor": 1
}
